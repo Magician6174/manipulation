{
 "cells": [
  {
   "cell_type": "markdown",
   "source": "# Ransac and Outlier Removal",
   "metadata": {
    "colab_type": "text",
    "id": "9CagYlhclDR4",
    "cell_id": "00000-04c020a9-c407-4436-ad60-c705e726500d",
    "deepnote_cell_type": "markdown"
   }
  },
  {
   "cell_type": "code",
   "metadata": {
    "colab": {},
    "colab_type": "code",
    "id": "3kqzbo_AlDR6",
    "cell_id": "00001-53a318eb-701f-4fd0-a141-f21cd9cd3063",
    "deepnote_to_be_reexecuted": false,
    "source_hash": "3ecfd2f2",
    "execution_start": 1635585885292,
    "execution_millis": 36,
    "output_cleared": false,
    "deepnote_cell_type": "code"
   },
   "source": "import numpy as np\nimport open3d as o3d \n\nfrom pydrake.all import (\n  RigidTransform, RotationMatrix, RollPitchYaw, PointCloud, Rgba, Cylinder\n)\nfrom manipulation import running_as_notebook, FindResource\nfrom manipulation.meshcat_cpp_utils import StartMeshcat",
   "outputs": [],
   "execution_count": null
  },
  {
   "cell_type": "code",
   "metadata": {
    "cell_id": "00002-3986f01b-53f4-42d3-ae9c-c9274f7b7745",
    "deepnote_to_be_reexecuted": false,
    "source_hash": "9657a590",
    "execution_start": 1635585887135,
    "execution_millis": 65,
    "output_cleared": false,
    "deepnote_cell_type": "code"
   },
   "source": "# Start the visualizer.\nmeshcat = StartMeshcat()\nmeshcat.SetProperty(\"/Background\",'visible', False)\nmeshcat.SetProperty(\"/Cameras/default/rotated/<object>\",\"zoom\", 10.5)",
   "outputs": [
    {
     "name": "stdout",
     "text": "Meshcat is now available at https://96e11e27-ff49-450c-854b-dcad3dd87345.deepnoteproject.com\n",
     "output_type": "stream"
    }
   ],
   "execution_count": null
  },
  {
   "cell_type": "code",
   "metadata": {
    "cell_id": "00003-0886c5f2-7117-4e4c-86df-76a4da1c7603",
    "deepnote_to_be_reexecuted": false,
    "source_hash": "6c37ba09",
    "execution_start": 1635589085790,
    "execution_millis": 27,
    "output_cleared": false,
    "deepnote_cell_type": "code"
   },
   "source": "# Visualize Stanford Bunny \npoints = np.asarray(o3d.io.read_point_cloud(\n    FindResource(\"models/bunny/bun_zipper_res2.ply\")).points)\n\n# Center and rotate the raw points.\nX_WFile = RigidTransform(RotationMatrix.MakeZRotation(np.pi/2), [0, 0, 0]) @ RigidTransform(RotationMatrix.MakeXRotation(np.pi/2), [0, 0, -0.05])\npoints = X_WFile.multiply(points.T).T\n\n# point clouds of planar surface\ngrid_spec = 50\nxy_axis = np.linspace(-0.5, 0.5, grid_spec)\nplane_x, plane_y = np.meshgrid(xy_axis, xy_axis)\npoints_plane_xy = np.c_[plane_x.flatten(), plane_y.flatten(), \n                        np.zeros(grid_spec**2)]\nbunny_w_plane = np.c_[points_plane_xy.T, points.T]\n\n\ndef fit_plane(xyzs):\n    '''\n    Args:\n      xyzs is (N, 3) numpy array\n    Returns:\n      (4,) numpy array\n    '''\n    center = np.mean(xyzs, axis=0)\n    cxyzs = xyzs - center\n    U, S, V = np.linalg.svd(cxyzs)\n    normal = V[-1]              # last row of V\n    d = -center.dot(normal)\n    plane_equation = np.hstack([normal, d])\n    return plane_equation\n\n# visualize a facet\ndef DrawFacet(abcd, name, center=None):\n    # TODO(russt): Clean up the math in here.\n    normal = np.array(abcd[:3]).astype(float)\n    normal /= np.linalg.norm(normal)\n    d = -abcd[3] / np.linalg.norm(normal)\n\n    R = np.eye(3)\n    R[:, 2] = normal\n    z = normal\n    if abs(z[0]) < 1e-8:\n        x = np.array([0, -normal[2], normal[1]])\n    else:\n        x = np.array([-normal[1], normal[0], 0])\n    x /= np.linalg.norm(x)\n    R[:, 0] = x\n    R[:, 1] = np.cross(z, x)\n\n    X = np.eye(4)\n    Rz = RollPitchYaw(np.pi/2, 0, 0).ToRotationMatrix().matrix()\n    X[:3, :3] = R.dot(Rz)\n    if center is None:\n        X[:3, 3] = d * normal\n    else:\n        X[:3, 3] = center\n              \n    meshcat.SetObject(\"facets/\"+name+\"/plane\", Cylinder(0.1, 0.005))\n    meshcat.SetTransform(\"facets/\"+name+\"/plane\", RigidTransform(X) @ RigidTransform(RotationMatrix.MakeXRotation(np.pi / 2.0)))\n    \n    meshcat.SetObject(\"facets/\" + name + \"/normal\",\n                      Cylinder(0.001, 0.2), Rgba(0, 0, 1))\n    meshcat.SetTransform(\"facets/\" + name + \"/normal\", RigidTransform(X) @ RigidTransform(RotationMatrix.MakeXRotation(np.pi / 2.0), [0, .1, 0]))\n\ndef visualize_point_clouds(points, name):\n  cloud = PointCloud(points.shape[1])\n  cloud.mutable_xyzs()[:] = points\n  meshcat.SetObject(name, cloud, size=0.01, rgba=Rgba(1.0, 0, 0))\n",
   "outputs": [],
   "execution_count": null
  },
  {
   "cell_type": "markdown",
   "source": "# Problem Description\nIn the lecture, we learned about the RANSAC algorithm. In this exercise, you will implement the RANSAC algorithm to separate the Stanford bunny from its environment!\n\n**These are the main steps of the exercise:**\n1. Implement the `ransac` method.\n2. Implement the `remove_plane` method to remove the points that belong to the planar surface.\n\nLet's first visualize the point clouds of Stanford bunny in meshcat!",
   "metadata": {
    "colab_type": "text",
    "id": "Bva0aj0GlDSI",
    "cell_id": "00004-96158973-ba7b-44bc-a586-f9221e3d26cb",
    "deepnote_cell_type": "markdown"
   }
  },
  {
   "cell_type": "code",
   "metadata": {
    "colab": {},
    "colab_type": "code",
    "id": "XtPLYaZhlDSJ",
    "cell_id": "00005-608ceb7b-02d9-4713-96ea-07b40e1105e4",
    "deepnote_to_be_reexecuted": false,
    "source_hash": "ea8ed28b",
    "execution_start": 1635589087468,
    "execution_millis": 3,
    "output_cleared": true,
    "deepnote_cell_type": "code"
   },
   "source": "visualize_point_clouds(bunny_w_plane, \"bunny_w_plane\")",
   "execution_count": null,
   "outputs": []
  },
  {
   "cell_type": "markdown",
   "source": "You should notice that now there is a planar surface underneath the bunny. You may assume the bunny is currently placed on a table, where the planar surface is the tabletop. In this exercise, your objective is to remove the planar surface.",
   "metadata": {
    "colab_type": "text",
    "id": "zF54ocy-lDSR",
    "cell_id": "00006-d45bcc8a-fd77-4431-8d38-9a5e1a6c9166",
    "deepnote_cell_type": "markdown"
   }
  },
  {
   "cell_type": "markdown",
   "source": "A straightforward way to achieve a better fit is to remove the planar surface underneath the bunny. To do so, we provide you a function to fit a planar surface. \n\nRecall that a plane equation is of the form\n$$a x + b y + c z + d = 0$$\nwhere $[a,b,c]^T$ is a vector normal to the plane and (if it's a unit normal) $d$ is the negative of the distance from the origin to the plane in the direction of the normal.  We'll represent a plane by the vector $[a,b,c,d]$.\n\nThe fitted planes are shown as translucent disks of radius $r$ centered at the points. The gray lines represent the planes' normals.",
   "metadata": {
    "colab_type": "text",
    "id": "ki2f7sxZlDSS",
    "cell_id": "00007-3f07b682-b93d-4c6f-88f6-34d98e34b669",
    "deepnote_cell_type": "markdown"
   }
  },
  {
   "cell_type": "code",
   "metadata": {
    "colab": {},
    "colab_type": "code",
    "id": "g2tMdp5PlDSS",
    "cell_id": "00008-49432733-5e19-4297-a422-6232377bb5e5",
    "deepnote_to_be_reexecuted": false,
    "source_hash": "994647f9",
    "execution_start": 1635589090397,
    "execution_millis": 1532,
    "output_cleared": false,
    "deepnote_cell_type": "code"
   },
   "source": "plane_equation = fit_plane(bunny_w_plane.T)\nprint(plane_equation)\nDrawFacet(plane_equation, 'naive_plane', center=[0,0,-plane_equation[-1]])",
   "outputs": [
    {
     "name": "stdout",
     "text": "[ 0.00617359  0.03380922  0.99940924 -0.03336162]\n",
     "output_type": "stream"
    }
   ],
   "execution_count": null
  },
  {
   "cell_type": "markdown",
   "source": "You should notice that the planar surface cannot be fitted exactly either. This is because it takes account of all points in the scene to fit the plane. Since a significant portion of the point cloud belongs to the bunny, the fitted plane is noticeably elevated above the ground. \n\nTo improve the result of the fitted plane, you will use RANSAC!",
   "metadata": {
    "colab_type": "text",
    "id": "HQs47D9SlDSX",
    "cell_id": "00009-e0fc2a53-1c3b-45c6-9419-fa72ec11f3f2",
    "deepnote_cell_type": "markdown"
   }
  },
  {
   "cell_type": "markdown",
   "source": "## RANSAC\nWith the presence of outliers (bunny), we can use RANSAC to get more reliable estimates. The idea is to fit a plane using many random choices of a minimal set of points (3), fit a plane for each one, count how many points are within a distance tolerance to that plane (the inliers), and return the estimate with the most inliers.\n\n**Complete the function `ransac`.  It takes a data matrix, a tolerance, a value of iterations, and a model regressor. It returns an equation constructed by the model regressor and a count of inliers.**",
   "metadata": {
    "colab_type": "text",
    "id": "8VB5_NrqlDSX",
    "cell_id": "00010-611e3a9b-2327-4f68-ab5c-b72fc806a164",
    "deepnote_cell_type": "markdown"
   }
  },
  {
   "cell_type": "code",
   "metadata": {
    "colab": {},
    "colab_type": "code",
    "id": "8PZI0rU_lDSY",
    "cell_id": "00011-a744ed5d-c6c2-4529-8c4b-aed3da6a47d6",
    "deepnote_to_be_reexecuted": false,
    "source_hash": "76ca09df",
    "execution_start": 1635589093477,
    "execution_millis": 2,
    "output_cleared": true,
    "deepnote_cell_type": "code"
   },
   "source": "def ransac(point_cloud, model_fit_func, tolerance=1e-3, max_iterations=500):\n    '''\n    Args:\n      point_cloud is (N, 3) numpy array\n      tolerance is a float\n      max_iterations is a (small) integer\n    Returns:\n      (4,) numpy array\n    '''\n    best_ic = 0                 # inlier count\n    best_model = np.ones(4)     # plane equation ((4,) array)\n\n    ##################\n    # your code here\n    N = point_cloud.shape[0]\n    for i in range(max_iterations):\n      a = [np.random.randint(0,N) for j in range(3)]\n      o = model_fit_func(point_cloud[a])\n\n      norm = np.abs(np.dot(point_cloud, o[:3]) + o[3])\n      count = norm[norm<tolerance].shape[0]\n      # print(count)\n      if count > best_ic:\n        best_ic = count\n        best_model = o\n        # print(\"best_count\",count)\n\n    \n    \n    ##################\n\n    return  best_ic, best_model",
   "execution_count": null,
   "outputs": []
  },
  {
   "cell_type": "markdown",
   "source": "Now you should have a lot better estimate of the planar surface with the use of RANSAC! Let's visualize the plane now!",
   "metadata": {
    "colab_type": "text",
    "id": "ubTmMUnelDSi",
    "cell_id": "00012-50b465f0-4a68-46a9-bc2b-f3203e385845",
    "deepnote_cell_type": "markdown"
   }
  },
  {
   "cell_type": "code",
   "metadata": {
    "colab": {},
    "colab_type": "code",
    "id": "OST0NACZlDSi",
    "cell_id": "00013-f02d3b82-6531-4266-bbc6-df389fe6758a",
    "deepnote_to_be_reexecuted": false,
    "source_hash": "234a1bf1",
    "execution_start": 1635589095649,
    "execution_millis": 114,
    "output_cleared": false,
    "deepnote_cell_type": "code"
   },
   "source": "inlier_count, ransac_plane = ransac(bunny_w_plane.T, fit_plane, 0.001, 500)\nprint(ransac_plane)\nDrawFacet(ransac_plane, 'ransac_plane', center=[0,0,-ransac_plane[-1]])",
   "outputs": [
    {
     "name": "stdout",
     "text": "[ 0.  0.  1. -0.]\n",
     "output_type": "stream"
    }
   ],
   "execution_count": null
  },
  {
   "cell_type": "markdown",
   "source": "## Remove Planar Surface\n\nNow all you need to do is to remove the points that belong to the planar surface. You may do so by rejecting all points that are \n$$|| a x + b y + c z + d || > tol$$\n\nNote that since you are fitting a plane, the bunny is this case is the \"outlier\". Your job, however, is to keep the bunny and remove the planar surface.\n\n**Complete the function below to remove the points that belongs to the planar surface**.",
   "metadata": {
    "colab_type": "text",
    "id": "IjB0y8hAlDSm",
    "cell_id": "00014-060fcd7f-16ae-4416-947f-d317993aa939",
    "deepnote_cell_type": "markdown"
   }
  },
  {
   "cell_type": "code",
   "metadata": {
    "colab": {},
    "colab_type": "code",
    "id": "M7Bt0qYqlDSn",
    "cell_id": "00015-5799a723-6924-4e45-9152-67431344f3dd",
    "deepnote_to_be_reexecuted": false,
    "source_hash": "eea0db2",
    "execution_start": 1635589097526,
    "execution_millis": 5,
    "output_cleared": true,
    "deepnote_cell_type": "code"
   },
   "source": "def remove_plane(point_cloud, ransac, tol=1e-4):\n    \"\"\"\n    Find the nearest (Euclidean) neighbor in point_cloud_B for each\n    point in point_cloud_A.\n    Args:\n        point_cloud: Nx3 numpy array of points\n        ransac: The RANSAC function to use (call ransac(args))\n        plane_equation: (4,) numpy array, contains the coefficients of the plane\n    Returns:\n        point_cloud_wo_plane: Mx3 numpy array of points\n    \"\"\"\n    # point_cloud_wo_plane = np.zeros((100,3))\n    point_cloud_wo_plane = []\n    _, model = ransac(point_cloud,fit_plane,0.001,500)\n    norm = np.dot(point_cloud, model[:3]) + model[3]\n    # print(point_cloud.shape)\n    # norm = np.linalg.norm(np.sum(norms,axis=1),axis = 1)\n    # print(norm.shape)\n    for i in range(len(norm)):\n        if norm[i] > tol:\n            point_cloud_wo_plane.append(point_cloud[i])\n    point_cloud_wo_plane = np.array(point_cloud_wo_plane)\n\n    return point_cloud_wo_plane",
   "execution_count": null,
   "outputs": []
  },
  {
   "cell_type": "code",
   "metadata": {
    "colab": {},
    "colab_type": "code",
    "id": "oizYYZ1KlDSw",
    "cell_id": "00016-f9bee3c8-7a4b-4173-aa74-804b2ed4307c",
    "deepnote_to_be_reexecuted": false,
    "source_hash": "434f81e1",
    "execution_start": 1635589098599,
    "execution_millis": 151,
    "output_cleared": false,
    "deepnote_cell_type": "code"
   },
   "source": "meshcat.Delete()\nbunny_wo_plane = remove_plane(bunny_w_plane.T, ransac)\nvisualize_point_clouds(bunny_wo_plane.T, \"bunny\")",
   "outputs": [
    {
     "name": "stdout",
     "text": "6486\n(6486, 3)\n",
     "output_type": "stream"
    }
   ],
   "execution_count": null
  },
  {
   "cell_type": "markdown",
   "source": "## How will this notebook be Graded?##\n\nIf you are enrolled in the class, this notebook will be graded using [Gradescope](www.gradescope.com). You should have gotten the enrollement code on our announcement in Piazza. \n\nFor submission of this assignment, you must: \n- Download and submit the notebook `ransac.ipynb` to Gradescope's notebook submission section, along with your notebook for the other problems.\n\nWe will evaluate the local functions in the notebook to see if the function behaves as we have expected. For this exercise, the rubric is as follows:\n- [4 pts] `ransac` must be implemented correctly. \n- [2 pts] `remove_plane` must be implemented correctly.",
   "metadata": {
    "colab_type": "text",
    "id": "MwE8yNg58VQN",
    "cell_id": "00017-1c5c2241-b5ae-4e90-bf9c-6a9060106ae5",
    "deepnote_cell_type": "markdown"
   }
  },
  {
   "cell_type": "code",
   "metadata": {
    "colab": {},
    "colab_type": "code",
    "id": "xj5nAh4g8VQO",
    "cell_id": "00018-a589a9fe-4438-4d78-9669-51397bc159da",
    "deepnote_to_be_reexecuted": false,
    "source_hash": "23e24d2e",
    "execution_start": 1635589102570,
    "execution_millis": 573,
    "output_cleared": false,
    "deepnote_cell_type": "code"
   },
   "source": "from manipulation.exercises.pose.test_ransac import TestRANSAC\nfrom manipulation.exercises.grader import Grader \n\nGrader.grade_output([TestRANSAC], [locals()], 'results.json')\nGrader.print_test_results('results.json')",
   "outputs": [
    {
     "name": "stdout",
     "text": "Total score is 6/6.\n\nScore for Test outlier removal is 2/2.\n- 6486\n(6486, 3)\n\n\nScore for Test ransac method is 4/4.\n",
     "output_type": "stream"
    }
   ],
   "execution_count": null
  },
  {
   "cell_type": "code",
   "source": "",
   "metadata": {
    "tags": [],
    "cell_id": "00019-1cb76674-6349-4f90-8ec1-cb1421af1819",
    "deepnote_cell_type": "code"
   },
   "outputs": [],
   "execution_count": null
  },
  {
   "cell_type": "markdown",
   "source": "<a style='text-decoration:none;line-height:16px;display:flex;color:#5B5B62;padding:10px;justify-content:end;' href='https://deepnote.com?utm_source=created-in-deepnote-cell&projectId=96e11e27-ff49-450c-854b-dcad3dd87345' target=\"_blank\">\n<img alt='Created in deepnote.com' style='display:inline;max-height:16px;margin:0px;margin-right:7.5px;' src='data:image/svg+xml;base64,PD94bWwgdmVyc2lvbj0iMS4wIiBlbmNvZGluZz0iVVRGLTgiPz4KPHN2ZyB3aWR0aD0iODBweCIgaGVpZ2h0PSI4MHB4IiB2aWV3Qm94PSIwIDAgODAgODAiIHZlcnNpb249IjEuMSIgeG1sbnM9Imh0dHA6Ly93d3cudzMub3JnLzIwMDAvc3ZnIiB4bWxuczp4bGluaz0iaHR0cDovL3d3dy53My5vcmcvMTk5OS94bGluayI+CiAgICA8IS0tIEdlbmVyYXRvcjogU2tldGNoIDU0LjEgKDc2NDkwKSAtIGh0dHBzOi8vc2tldGNoYXBwLmNvbSAtLT4KICAgIDx0aXRsZT5Hcm91cCAzPC90aXRsZT4KICAgIDxkZXNjPkNyZWF0ZWQgd2l0aCBTa2V0Y2guPC9kZXNjPgogICAgPGcgaWQ9IkxhbmRpbmciIHN0cm9rZT0ibm9uZSIgc3Ryb2tlLXdpZHRoPSIxIiBmaWxsPSJub25lIiBmaWxsLXJ1bGU9ImV2ZW5vZGQiPgogICAgICAgIDxnIGlkPSJBcnRib2FyZCIgdHJhbnNmb3JtPSJ0cmFuc2xhdGUoLTEyMzUuMDAwMDAwLCAtNzkuMDAwMDAwKSI+CiAgICAgICAgICAgIDxnIGlkPSJHcm91cC0zIiB0cmFuc2Zvcm09InRyYW5zbGF0ZSgxMjM1LjAwMDAwMCwgNzkuMDAwMDAwKSI+CiAgICAgICAgICAgICAgICA8cG9seWdvbiBpZD0iUGF0aC0yMCIgZmlsbD0iIzAyNjVCNCIgcG9pbnRzPSIyLjM3NjIzNzYyIDgwIDM4LjA0NzY2NjcgODAgNTcuODIxNzgyMiA3My44MDU3NTkyIDU3LjgyMTc4MjIgMzIuNzU5MjczOSAzOS4xNDAyMjc4IDMxLjY4MzE2ODMiPjwvcG9seWdvbj4KICAgICAgICAgICAgICAgIDxwYXRoIGQ9Ik0zNS4wMDc3MTgsODAgQzQyLjkwNjIwMDcsNzYuNDU0OTM1OCA0Ny41NjQ5MTY3LDcxLjU0MjI2NzEgNDguOTgzODY2LDY1LjI2MTk5MzkgQzUxLjExMjI4OTksNTUuODQxNTg0MiA0MS42NzcxNzk1LDQ5LjIxMjIyODQgMjUuNjIzOTg0Niw0OS4yMTIyMjg0IEMyNS40ODQ5Mjg5LDQ5LjEyNjg0NDggMjkuODI2MTI5Niw0My4yODM4MjQ4IDM4LjY0NzU4NjksMzEuNjgzMTY4MyBMNzIuODcxMjg3MSwzMi41NTQ0MjUgTDY1LjI4MDk3Myw2Ny42NzYzNDIxIEw1MS4xMTIyODk5LDc3LjM3NjE0NCBMMzUuMDA3NzE4LDgwIFoiIGlkPSJQYXRoLTIyIiBmaWxsPSIjMDAyODY4Ij48L3BhdGg+CiAgICAgICAgICAgICAgICA8cGF0aCBkPSJNMCwzNy43MzA0NDA1IEwyNy4xMTQ1MzcsMC4yNTcxMTE0MzYgQzYyLjM3MTUxMjMsLTEuOTkwNzE3MDEgODAsMTAuNTAwMzkyNyA4MCwzNy43MzA0NDA1IEM4MCw2NC45NjA0ODgyIDY0Ljc3NjUwMzgsNzkuMDUwMzQxNCAzNC4zMjk1MTEzLDgwIEM0Ny4wNTUzNDg5LDc3LjU2NzA4MDggNTMuNDE4MjY3Nyw3MC4zMTM2MTAzIDUzLjQxODI2NzcsNTguMjM5NTg4NSBDNTMuNDE4MjY3Nyw0MC4xMjg1NTU3IDM2LjMwMzk1NDQsMzcuNzMwNDQwNSAyNS4yMjc0MTcsMzcuNzMwNDQwNSBDMTcuODQzMDU4NiwzNy43MzA0NDA1IDkuNDMzOTE5NjYsMzcuNzMwNDQwNSAwLDM3LjczMDQ0MDUgWiIgaWQ9IlBhdGgtMTkiIGZpbGw9IiMzNzkzRUYiPjwvcGF0aD4KICAgICAgICAgICAgPC9nPgogICAgICAgIDwvZz4KICAgIDwvZz4KPC9zdmc+' > </img>\nCreated in <span style='font-weight:600;margin-left:4px;'>Deepnote</span></a>",
   "metadata": {
    "tags": [],
    "created_in_deepnote_cell": true,
    "deepnote_cell_type": "markdown"
   }
  }
 ],
 "nbformat": 4,
 "nbformat_minor": 1,
 "metadata": {
  "celltoolbar": "Tags",
  "colab": {
   "collapsed_sections": [],
   "name": "ransac.ipynb",
   "provenance": [],
   "toc_visible": true
  },
  "kernelspec": {
   "name": "python3",
   "display_name": "Python 3.6.9 64-bit"
  },
  "language_info": {
   "codemirror_mode": {
    "name": "ipython",
    "version": 3
   },
   "file_extension": ".py",
   "mimetype": "text/x-python",
   "name": "python",
   "nbconvert_exporter": "python",
   "pygments_lexer": "ipython3",
   "version": "3.6.9"
  },
  "interpreter": {
   "hash": "31f2aee4e71d21fbe5cf8b01ff0e069b9275f58929596ceb00d14d90e3e16cd6"
  },
  "deepnote_notebook_id": "9492585a-ff9f-4e6d-9858-651976ebce83",
  "deepnote": {},
  "deepnote_execution_queue": []
 }
}