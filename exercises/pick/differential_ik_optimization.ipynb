{
  "nbformat": 4,
  "nbformat_minor": 0,
  "metadata": {
    "celltoolbar": "Tags",
    "colab": {
      "name": "Copy of differential_ik_optimization.ipynb",
      "provenance": [],
      "collapsed_sections": []
    },
    "kernelspec": {
      "display_name": "Python 3",
      "language": "python",
      "name": "python3"
    },
    "language_info": {
      "codemirror_mode": {
        "name": "ipython",
        "version": 3
      },
      "file_extension": ".py",
      "mimetype": "text/x-python",
      "name": "python",
      "nbconvert_exporter": "python",
      "pygments_lexer": "ipython3",
      "version": "3.6.9"
    }
  },
  "cells": [
    {
      "cell_type": "markdown",
      "metadata": {
        "id": "1VDev4CDWBdP"
      },
      "source": [
        "##**Differential IK as Optimization**"
      ]
    },
    {
      "cell_type": "markdown",
      "metadata": {
        "id": "VsbCH_XUJDCN"
      },
      "source": [
        "## Notebook Setup \n",
        "The following cell will install Drake, checkout the manipulation repository, and set up the path (only if necessary).\n",
        "- On Google's Colaboratory, this **will take approximately two minutes** on the first time it runs (to provision the machine), but should only need to reinstall once every 12 hours.  \n",
        "\n",
        "More details are available [here](http://manipulation.mit.edu/drake.html)."
      ]
    },
    {
      "cell_type": "code",
      "metadata": {
        "colab": {
          "base_uri": "https://localhost:8080/"
        },
        "id": "l3cuy181WKu6",
        "outputId": "62a35dc1-fcd9-42c3-a948-947bff3a7f76"
      },
      "source": [
        "import importlib\n",
        "import os, sys\n",
        "from urllib.request import urlretrieve\n",
        "\n",
        "if 'google.colab' in sys.modules and importlib.util.find_spec('manipulation') is None:\n",
        "    urlretrieve(f\"http://manipulation.csail.mit.edu/scripts/setup/setup_manipulation_colab.py\",\n",
        "                \"setup_manipulation_colab.py\")\n",
        "    from setup_manipulation_colab import setup_manipulation\n",
        "    setup_manipulation(manipulation_sha='c1bdae733682f8a390f848bc6cb0dbbf9ea98602', drake_version='0.25.0', drake_build='releases')"
      ],
      "execution_count": null,
      "outputs": [
        {
          "output_type": "stream",
          "text": [
            "Cloning into '/opt/manipulation'...\n",
            "\n",
            "HEAD is now at c1bdae7 make running_as_notebook a util, and add colab testing logic\n",
            "\n",
            "/usr/lib/python3.7/runpy.py:125: RuntimeWarning: 'notebook.nbextensions' found in sys.modules after import of package 'notebook', but prior to execution of 'notebook.nbextensions'; this may result in unpredictable behaviour\n",
            "  warn(RuntimeWarning(msg))\n",
            "Enabling notebook extension jupyter-js-widgets/extension...\n",
            "Paths used for configuration of notebook: \n",
            "    \t/usr/etc/jupyter/nbconfig/notebook.json\n",
            "      - Validating: \u001b[32mOK\u001b[0m\n",
            "Paths used for configuration of notebook: \n",
            "    \t/usr/etc/jupyter/nbconfig/notebook.json\n",
            "/sbin/ldconfig.real: /usr/local/lib/python3.7/dist-packages/ideep4py/lib/libmkldnn.so.0 is not a symbolic link\n",
            "\n",
            "Enabling notebook extension jupyter-js-widgets/extension...\n",
            "      - Validating: \u001b[32mOK\u001b[0m\n",
            "\n",
            "WARNING: The candidate selected for download or install is a yanked version: 'nbformat' candidate (version 5.1.2 at https://files.pythonhosted.org/packages/13/1d/59cbc5a6b627ba3b4c0ec5ccc82a9002e58b324e2620a4929b81f1f8d309/nbformat-5.1.2-py3-none-any.whl#sha256=3949fdc8f5fa0b1afca16fb307546e78494fa7a7bceff880df8168eafda0e7ac (from https://pypi.org/simple/nbformat/) (requires-python:>=3.5))\n",
            "Reason for being yanked: Name generation process created inappropriate id values\n",
            "ERROR: pip's dependency resolver does not currently take into account all the packages that are installed. This behaviour is the source of the following dependency conflicts.\n",
            "nbclient 0.5.3 requires jupyter-client>=6.1.5, but you have jupyter-client 5.3.5 which is incompatible.\n",
            "datascience 0.10.6 requires folium==0.2.1, but you have folium 0.8.3 which is incompatible.\n",
            "\n",
            "\n",
            "WARNING: apt does not have a stable CLI interface. Use with caution in scripts.\n",
            "\n",
            "\n"
          ],
          "name": "stdout"
        }
      ]
    },
    {
      "cell_type": "code",
      "metadata": {
        "id": "tFMmTfbHWQfh"
      },
      "source": [
        "# python libraries\n",
        "import numpy as np\n",
        "import matplotlib.pyplot as plt, mpld3\n",
        "from IPython.display import HTML, display\n",
        "\n",
        "# Setup pyngrok.\n",
        "server_args = []\n",
        "if 'google.colab' in sys.modules:\n",
        "  server_args = ['--ngrok_http_tunnel']\n",
        "\n",
        "from manipulation import running_as_notebook\n",
        "\n",
        "# Start a single meshcat server instance to use for the remainder of this notebook.\n",
        "from meshcat.servers.zmqserver import start_zmq_server_as_subprocess\n",
        "proc, zmq_url, web_url = start_zmq_server_as_subprocess(server_args=server_args)\n",
        "\n",
        "from pydrake.all import (\n",
        "    BasicVector, DiagramBuilder, ConnectMeshcatVisualizer, Integrator,\n",
        "    JacobianWrtVariable, LeafSystem, Simulator, ConstantVectorSource,\n",
        "    MathematicalProgram, SnoptSolver, Solve, eq, le, ge,\n",
        "    GenerateHtml)\n",
        "\n",
        "from pydrake.examples.manipulation_station import ManipulationStation"
      ],
      "execution_count": null,
      "outputs": []
    },
    {
      "cell_type": "markdown",
      "metadata": {
        "id": "mcSz0hOVtBd5"
      },
      "source": [
        "## Problem Description\n",
        "In the lecture, we learned about how to view Differential inverse kinematics as an instance of optimization. In this exercise, we will actually define and solve these optimization problems!\n",
        "\n",
        "The goal of the exercise is to see if you can apply the optimization techniques we learned in class to design your own controller.\n",
        "\n",
        "**These are the main steps of the exercise:**\n",
        "1. Write down the JacobianPseudoinverse controller as an optimization-based framework with joint-velocity constraints. \n",
        "2. Design and implement a virtual wall for the manipulator through constraints in the end-effector space. "
      ]
    },
    {
      "cell_type": "markdown",
      "metadata": {
        "id": "f6M3qJIHVQ-y"
      },
      "source": [
        "## The Differential IK System \n",
        "\n",
        "As we've seen in the lecture, a differential IK converts a desired end-effector velocity to joint velocities. From drake's system view of the world, how should we abstract this?\n",
        "\n",
        "It would be reasonable to make it a `LeafSystem`, where the input is `spatial velocity_desired`, and the output is `iiwa_velocity_commanded`. We might also need an input port of `iiwa_position_measured` since our Jacobian is a function of the joint angles, and `iiwa_velocity_esimated` in case we want to use that information. \n",
        "\n",
        "<img src=\"https://raw.githubusercontent.com/RussTedrake/manipulation/master/figures/exercises/diffik_system.png\" width=\"700\">\n",
        "\n",
        "Since we will be going through different implementations of DifferentialIK, let's set up a DifferentialIKSystem that accepts a function to compute joint velocities upon getting the Jacobian, desired spatial velocity, and other information from the robot."
      ]
    },
    {
      "cell_type": "markdown",
      "metadata": {
        "id": "gfcK2R9WgnPe"
      },
      "source": [
        "We will also abstract all the Drake workings into a wrapper `BuildAndSimulate`, which constructs and connects the following systems:\n",
        "- `ManipulationStation`\n",
        "- `DifferentialIKSystem` \n",
        "- `ConstantVectorSource` for commanding desired velocity to controller.\n",
        "- `Integrator` to go from `iiwa_velocity` output of controller to `iiwa_position` input of `ManipulationStation`. \n",
        "\n",
        "The purpose of this function is to swap out different implementations of spatial-to-joint velocity mappings on the fly and simulate! \n"
      ]
    },
    {
      "cell_type": "code",
      "metadata": {
        "id": "F24X_misbTFj"
      },
      "source": [
        "class DifferentialIKSystem(LeafSystem):\n",
        "    \"\"\"Wrapper system for Differential IK. \n",
        "        @param plant MultibodyPlant of the simulated plant. \n",
        "        @param diffik_fun function object that handles diffik. Must have the signature \n",
        "               diffik_fun(J_G, V_G_desired, q_now, v_now, X_now)\n",
        "    \"\"\" \n",
        "    def __init__(self, plant, diffik_fun):\n",
        "        LeafSystem.__init__(self)\n",
        "        self._plant = plant\n",
        "        self._plant_context = plant.CreateDefaultContext()\n",
        "        self._iiwa = plant.GetModelInstanceByName(\"iiwa\")\n",
        "        self._G = plant.GetBodyByName(\"body\").body_frame()\n",
        "        self._W = plant.world_frame()\n",
        "        self._diffik_fun = diffik_fun\n",
        "\n",
        "        self.DeclareVectorInputPort(\"spatial_velocity\", BasicVector(6))\n",
        "        self.DeclareVectorInputPort(\"iiwa_position_measured\", BasicVector(7))\n",
        "        self.DeclareVectorInputPort(\"iiwa_velocity_measured\", BasicVector(7))\n",
        "        self.DeclareVectorOutputPort(\"iiwa_velocity_command\", BasicVector(7), \n",
        "                                     self.CalcOutput)\n",
        "        \n",
        "    def CalcOutput(self, context, output):\n",
        "        V_G_desired = self.get_input_port(0).Eval(context)\n",
        "        q_now = self.get_input_port(1).Eval(context)\n",
        "        v_now = self.get_input_port(2).Eval(context)\n",
        "\n",
        "        self._plant.SetPositions(self._plant_context, self._iiwa, q_now)\n",
        "        J_G = self._plant.CalcJacobianSpatialVelocity(\n",
        "            self._plant_context, JacobianWrtVariable.kQDot, \n",
        "            self._G, [0,0,0], self._W, self._W)\n",
        "        J_G = J_G[:,0:7] # Ignore gripper terms\n",
        "\n",
        "        X_now = self._plant.CalcRelativeTransform(self._plant_context, \n",
        "                                                     self._W, self._G)\n",
        "        p_now = X_now.translation()\n",
        "        \n",
        "        v = self._diffik_fun(J_G, V_G_desired, q_now, v_now, p_now) \n",
        "        output.SetFromVector(v)\n",
        "\n",
        "def BuildAndSimulate(diffik_fun, V_d, plot_system_diagram=False):\n",
        "  builder = DiagramBuilder()\n",
        "\n",
        "  station = builder.AddSystem(ManipulationStation(time_step=4e-3))\n",
        "  station.SetupClutterClearingStation()\n",
        "  #station.SetupManipulationClassStation()\n",
        "  station.Finalize()\n",
        "\n",
        "  controller = builder.AddSystem(DifferentialIKSystem(\n",
        "      station.get_multibody_plant(), diffik_fun))\n",
        "  integrator = builder.AddSystem(Integrator(7))\n",
        "  desired_vel = builder.AddSystem(ConstantVectorSource(V_d))\n",
        "\n",
        "  builder.Connect(controller.get_output_port(), \n",
        "                  integrator.get_input_port())\n",
        "  builder.Connect(integrator.get_output_port(),\n",
        "                  station.GetInputPort(\"iiwa_position\"))\n",
        "  builder.Connect(station.GetOutputPort(\"iiwa_position_measured\"),\n",
        "                  controller.get_input_port(1))\n",
        "  builder.Connect(station.GetOutputPort(\"iiwa_velocity_estimated\"),\n",
        "                  controller.get_input_port(2))\n",
        "  builder.Connect(desired_vel.get_output_port(),\n",
        "                  controller.get_input_port(0))\n",
        "\n",
        "  meshcat = ConnectMeshcatVisualizer(builder,\n",
        "      station.get_scene_graph(),\n",
        "      output_port=station.GetOutputPort(\"query_object\"),\n",
        "      delete_prefix_on_load=False, # support caching\n",
        "      zmq_url=zmq_url)\n",
        "\n",
        "  diagram = builder.Build()\n",
        "  diagram.set_name(\"diagram\")\n",
        "  if (plot_system_diagram): (\n",
        "      display(HTML('<script src=\"https://unpkg.com/gojs/release/go.js\"></script>' + GenerateHtml(diagram)))\n",
        "  )\n",
        "\n",
        "  simulator = Simulator(diagram)\n",
        "  station_context = station.GetMyContextFromRoot(simulator.get_mutable_context())\n",
        "  station.GetInputPort(\"iiwa_feedforward_torque\").FixValue(station_context, np.zeros((7,1)))\n",
        "  station.GetInputPort(\"wsg_position\").FixValue(station_context, [0.1])\n",
        "\n",
        "  integrator.GetMyContextFromRoot(simulator.get_mutable_context()).get_mutable_continuous_state_vector().SetFromVector(station.GetIiwaPosition(station_context))\n",
        "\n",
        "  simulator.set_target_realtime_rate(1.0)\n",
        "  simulator.AdvanceTo(0.01);\n",
        "\n",
        "  return simulator "
      ],
      "execution_count": null,
      "outputs": []
    },
    {
      "cell_type": "markdown",
      "metadata": {
        "id": "1bRwOKRrrdQw"
      },
      "source": [
        "Let's just make sure we've got all the systems and connections right by hooking this up with out Baseclass controller `DifferentialIKBaseSystem` that outputs zero velocities, and looking at the diagram. \n",
        "\n",
        "For differential IK, we'll just set it up with a function that always outputs zeroes for now."
      ]
    },
    {
      "cell_type": "code",
      "metadata": {
        "colab": {
          "base_uri": "https://localhost:8080/",
          "height": 486
        },
        "id": "Bd5544l6rhVI",
        "outputId": "4de8cda5-1562-4155-e4be-f770599b83eb"
      },
      "source": [
        "def DiffIK_Zero(J_G, V_G_desired, q_now, v_now, p_now):\n",
        "  return np.zeros(7)\n",
        "\n",
        "V_d = np.zeros(6)\n",
        "simulator = BuildAndSimulate(DiffIK_Zero, V_d, plot_system_diagram=True)"
      ],
      "execution_count": null,
      "outputs": [
        {
          "output_type": "stream",
          "text": [
            "Connecting to meshcat-server at zmq_url=tcp://127.0.0.1:6000...\n",
            "You can open the visualizer by visiting the following URL:\n",
            "http://de92c091a733.ngrok.io/static/\n",
            "Connected to meshcat-server.\n"
          ],
          "name": "stdout"
        },
        {
          "output_type": "display_data",
          "data": {
            "text/html": [
              "<script src=\"https://unpkg.com/gojs/release/go.js\"></script>\n",
              "<div style='height:400px;' id='myDiagramDiv'>\n",
              "The implementation of GenerateHtml has been temporarily removed from Drake due\n",
              "to licensing restrictions.\n",
              "</div>\n",
              "<script>\n",
              "  $ = go.GraphObject.make\n",
              "  var diagram = $(go.Diagram, \"myDiagramDiv\", {\n",
              "    \"undoManager.isEnabled\": true,\n",
              "    initialAutoScale: go.Diagram.Uniform\n",
              "  });\n",
              "  diagram.layout = $(go.LayeredDigraphLayout, {\n",
              "    layerSpacing: 20,\n",
              "    columnSpacing: 20,\n",
              "    isRealtime: false\n",
              "  });\n",
              "\n",
              "  diagram.groupTemplate = $(\n",
              "    go.Group,\n",
              "    \"Auto\",\n",
              "    { layout: $(go.LayeredDigraphLayout, { direction: 0, columnSpacing: 10 }) },\n",
              "    new go.Binding(\"isSubGraphExpanded\", \"expanded\"),\n",
              "    $(\n",
              "      go.Shape,\n",
              "      \"RoundedRectangle\", // surrounds everything\n",
              "      { parameter1: 10, fill: \"rgba(128,128,128,0.33)\" }\n",
              "    ),\n",
              "    $(\n",
              "      go.Panel,\n",
              "      \"Vertical\", // position header above the subgraph\n",
              "      { defaultAlignment: go.Spot.Left },\n",
              "      $(\n",
              "        go.Panel,\n",
              "        \"Horizontal\", // the header\n",
              "        { defaultAlignment: go.Spot.Top },\n",
              "        $(\"SubGraphExpanderButton\"), // this Panel acts as a Button\n",
              "        $(\n",
              "          go.TextBlock, // group title near top, next to button\n",
              "          { font: \"Bold 12pt Sans-Serif\" },\n",
              "          new go.Binding(\"text\", \"name\")\n",
              "        )\n",
              "      ),\n",
              "      $(\n",
              "        go.Placeholder, // represents area for all member parts\n",
              "        { padding: new go.Margin(0, 10), background: \"white\" }\n",
              "      )\n",
              "    )\n",
              "  );\n",
              "  var systemTemplate = $(\n",
              "    go.Node,\n",
              "    \"Auto\",\n",
              "    $(go.Shape, \"RoundedRectangle\", {\n",
              "      parameter1: 10,\n",
              "      fill: \"rgba(128,128,228,0.33)\"\n",
              "    }),\n",
              "    $(\n",
              "      go.Panel,\n",
              "      \"Table\",\n",
              "      { margin: 10 },\n",
              "      $(\n",
              "        go.TextBlock,\n",
              "        { row: 0, column: 0, columnSpan: 2, alignment: go.Spot.Center },\n",
              "        { font: \"bold 12pt sans-serif\" },\n",
              "        new go.Binding(\"text\", \"key\")\n",
              "      ),\n",
              "      $(go.RowColumnDefinition, {\n",
              "        row: 1,\n",
              "        separatorStrokeWidth: 1.5,\n",
              "        separatorStroke: \"black\"\n",
              "      }),\n",
              "      $(go.TextBlock, {\n",
              "        // add a spacer\n",
              "        row: 1,\n",
              "        column: 0,\n",
              "        columnSpan: 2,\n",
              "        height: 10\n",
              "      }),\n",
              "      $(\n",
              "        go.Panel,\n",
              "        \"Vertical\",\n",
              "        { name: \"INPUT_PORTS\" },\n",
              "        new go.Binding(\"itemArray\", \"input_ports\"),\n",
              "        {\n",
              "          row: 2,\n",
              "          column: 0,\n",
              "          alignment: go.Spot.Left,\n",
              "          itemTemplate: $(\n",
              "            go.Panel,\n",
              "            \"Auto\",\n",
              "            { margin: 2 },\n",
              "            $(go.Shape, \"RoundedRectangle\", { fill: \"lightcyan\" }),\n",
              "            $(go.TextBlock, new go.Binding(\"text\", \"name\"), {\n",
              "              margin: 2\n",
              "            }),\n",
              "            new go.Binding(\"portId\", \"id\")\n",
              "          ) // end of itemTemplate\n",
              "        }\n",
              "      ),\n",
              "      $(\n",
              "        go.Panel,\n",
              "        \"Vertical\",\n",
              "        { name: \"OUTPUT_PORTS\" },\n",
              "        new go.Binding(\"itemArray\", \"output_ports\"),\n",
              "        {\n",
              "          row: 2,\n",
              "          column: 1,\n",
              "          alignment: go.Spot.Right,\n",
              "          itemTemplate: $(\n",
              "            go.Panel,\n",
              "            \"Auto\",\n",
              "            { margin: 2 },\n",
              "            $(go.Shape, \"RoundedRectangle\", { fill: \"lightcyan\" }),\n",
              "            $(go.TextBlock, new go.Binding(\"text\", \"name\"), {\n",
              "              margin: 2\n",
              "            }),\n",
              "            new go.Binding(\"portId\", \"id\")\n",
              "          ) // end of itemTemplate\n",
              "        }\n",
              "      )\n",
              "    )\n",
              "  );\n",
              "\n",
              "  var portTemplate = $(\n",
              "    go.Node,\n",
              "    \"Auto\",\n",
              "    $(go.Shape, \"RoundedRectangle\", {\n",
              "      parameter1: 10,\n",
              "      fill: \"honeydew\"\n",
              "    }),\n",
              "    $(\n",
              "      go.TextBlock,\n",
              "      { row: 0, column: 0, columnSpan: 2, alignment: go.Spot.Right },\n",
              "      new go.Binding(\"text\", \"name\")\n",
              "    )\n",
              "  );\n",
              "\n",
              "  var templmap = new go.Map();\n",
              "  templmap.add(\"\", systemTemplate);\n",
              "  templmap.add(\"input_port\", portTemplate);\n",
              "  templmap.add(\"output_port\", portTemplate);\n",
              "  diagram.nodeTemplateMap = templmap;\n",
              "\n",
              "  diagram.model = $(go.GraphLinksModel, {\n",
              "    linkFromPortIdProperty: \"fromPort\", // required information:\n",
              "    linkToPortIdProperty: \"toPort\", // identifies data property names\n",
              "    nodeDataArray: [\n",
              "{ key: \"diagram\", name: \"diagram\", group: \"\", isGroup: true, expanded: true, },\n",
              "{ key: \"manipulation_station\", name: \"manipulation_station\", group: \"diagram\", isGroup: true, expanded: false, },\n",
              "{ key: \"manipulation_station_inputs\", name: \"Input Ports\", group: \"manipulation_station\", isGroup: true, },\n",
              "{ key: \"manipulation_station_u0\", name: \"iiwa_position\", group: \"manipulation_station_inputs\", category: \"input_port\", },\n",
              "{ key: \"manipulation_station_u1\", name: \"iiwa_feedforward_torque\", group: \"manipulation_station_inputs\", category: \"input_port\", },\n",
              "{ key: \"manipulation_station_u2\", name: \"wsg_position\", group: \"manipulation_station_inputs\", category: \"input_port\", },\n",
              "{ key: \"manipulation_station_u3\", name: \"wsg_force_limit\", group: \"manipulation_station_inputs\", category: \"input_port\", },\n",
              "{ key: \"manipulation_station_outputs\", name: \"Output Ports\", group: \"manipulation_station\", isGroup: true, },\n",
              "{ key: \"manipulation_station_y0\", name: \"iiwa_position_commanded\", group: \"manipulation_station_outputs\", category: \"output_port\", },\n",
              "{ key: \"manipulation_station_y1\", name: \"iiwa_position_measured\", group: \"manipulation_station_outputs\", category: \"output_port\", },\n",
              "{ key: \"manipulation_station_y2\", name: \"iiwa_velocity_estimated\", group: \"manipulation_station_outputs\", category: \"output_port\", },\n",
              "{ key: \"manipulation_station_y3\", name: \"iiwa_state_estimated\", group: \"manipulation_station_outputs\", category: \"output_port\", },\n",
              "{ key: \"manipulation_station_y4\", name: \"iiwa_torque_commanded\", group: \"manipulation_station_outputs\", category: \"output_port\", },\n",
              "{ key: \"manipulation_station_y5\", name: \"iiwa_torque_measured\", group: \"manipulation_station_outputs\", category: \"output_port\", },\n",
              "{ key: \"manipulation_station_y6\", name: \"wsg_state_measured\", group: \"manipulation_station_outputs\", category: \"output_port\", },\n",
              "{ key: \"manipulation_station_y7\", name: \"wsg_force_measured\", group: \"manipulation_station_outputs\", category: \"output_port\", },\n",
              "{ key: \"manipulation_station_y8\", name: \"iiwa_torque_external\", group: \"manipulation_station_outputs\", category: \"output_port\", },\n",
              "{ key: \"manipulation_station_y9\", name: \"camera_0_rgb_image\", group: \"manipulation_station_outputs\", category: \"output_port\", },\n",
              "{ key: \"manipulation_station_y10\", name: \"camera_0_depth_image\", group: \"manipulation_station_outputs\", category: \"output_port\", },\n",
              "{ key: \"manipulation_station_y11\", name: \"camera_0_label_image\", group: \"manipulation_station_outputs\", category: \"output_port\", },\n",
              "{ key: \"manipulation_station_y12\", name: \"pose_bundle\", group: \"manipulation_station_outputs\", category: \"output_port\", },\n",
              "{ key: \"manipulation_station_y13\", name: \"query_object\", group: \"manipulation_station_outputs\", category: \"output_port\", },\n",
              "{ key: \"manipulation_station_y14\", name: \"geometry_query\", group: \"manipulation_station_outputs\", category: \"output_port\", },\n",
              "{ key: \"manipulation_station_y15\", name: \"contact_results\", group: \"manipulation_station_outputs\", category: \"output_port\", },\n",
              "{ key: \"manipulation_station_y16\", name: \"plant_continuous_state\", group: \"manipulation_station_outputs\", category: \"output_port\", },\n",
              "{ key: \"manipulation_station_y17\", name: \"geometry_poses\", group: \"manipulation_station_outputs\", category: \"output_port\", },\n",
              "{ key: \"plant\", group: \"manipulation_station\", input_ports: [ { name: \"geometry_query\", id: \"u0\" }, { name: \"WorldModelInstance_actuation\", id: \"u1\" }, { name: \"DefaultModelInstance_actuation\", id: \"u2\" }, { name: \"bin1_actuation\", id: \"u3\" }, { name: \"bin2_actuation\", id: \"u4\" }, { name: \"iiwa_actuation\", id: \"u5\" }, { name: \"gripper_actuation\", id: \"u6\" }, { name: \"applied_generalized_force\", id: \"u7\" }, { name: \"applied_spatial_force\", id: \"u8\" }, ],\n",
              "output_ports: [ { name: \"geometry_pose\", id: \"y0\" }, { name: \"continuous_state\", id: \"y1\" }, { name: \"body_poses\", id: \"y2\" }, { name: \"spatial_velocities\", id: \"y3\" }, { name: \"spatial_accelerations\", id: \"y4\" }, { name: \"generalized_acceleration\", id: \"y5\" }, { name: \"WorldModelInstance_continuous_state\", id: \"y6\" }, { name: \"WorldModelInstance_generalized_acceleration\", id: \"y7\" }, { name: \"DefaultModelInstance_continuous_state\", id: \"y8\" }, { name: \"DefaultModelInstance_generalized_acceleration\", id: \"y9\" }, { name: \"bin1_continuous_state\", id: \"y10\" }, { name: \"bin1_generalized_acceleration\", id: \"y11\" }, { name: \"bin2_continuous_state\", id: \"y12\" }, { name: \"bin2_generalized_acceleration\", id: \"y13\" }, { name: \"iiwa_continuous_state\", id: \"y14\" }, { name: \"iiwa_generalized_acceleration\", id: \"y15\" }, { name: \"gripper_continuous_state\", id: \"y16\" }, { name: \"gripper_generalized_acceleration\", id: \"y17\" }, { name: \"WorldModelInstance_generalized_contact_forces\", id: \"y18\" }, { name: \"DefaultModelInstance_generalized_contact_forces\", id: \"y19\" }, { name: \"bin1_generalized_contact_forces\", id: \"y20\" }, { name: \"bin2_generalized_contact_forces\", id: \"y21\" }, { name: \"iiwa_generalized_contact_forces\", id: \"y22\" }, { name: \"gripper_generalized_contact_forces\", id: \"y23\" }, { name: \"reaction_forces\", id: \"y24\" }, { name: \"contact_results\", id: \"y25\" }, ],\n",
              "},\n",
              "{ key: \"scene_graph\", group: \"manipulation_station\", input_ports: [ { name: \"Source_3_pose\", id: \"u0\" }, ],\n",
              "output_ports: [ { name: \"lcm_visualization\", id: \"y0\" }, { name: \"query\", id: \"y1\" }, ],\n",
              "},\n",
              "{ key: \"drake/systems/PassThrough@0000560b89dfa840\", group: \"manipulation_station\", input_ports: [ { name: \"u\", id: \"u0\" }, ],\n",
              "output_ports: [ { name: \"y\", id: \"y0\" }, ],\n",
              "},\n",
              "{ key: \"drake/systems/Demultiplexer@0000560b89902f00\", group: \"manipulation_station\", input_ports: [ { name: \"u0\", id: \"u0\" }, ],\n",
              "output_ports: [ { name: \"y0\", id: \"y0\" }, { name: \"y1\", id: \"y1\" }, ],\n",
              "},\n",
              "{ key: \"iiwa_controller\", name: \"iiwa_controller\", group: \"manipulation_station\", isGroup: true, expanded: false, },\n",
              "{ key: \"iiwa_controller_inputs\", name: \"Input Ports\", group: \"iiwa_controller\", isGroup: true, },\n",
              "{ key: \"iiwa_controller_u0\", name: \"estimated_state\", group: \"iiwa_controller_inputs\", category: \"input_port\", },\n",
              "{ key: \"iiwa_controller_u1\", name: \"desired_state\", group: \"iiwa_controller_inputs\", category: \"input_port\", },\n",
              "{ key: \"iiwa_controller_outputs\", name: \"Output Ports\", group: \"iiwa_controller\", isGroup: true, },\n",
              "{ key: \"iiwa_controller_y0\", name: \"force\", group: \"iiwa_controller_outputs\", category: \"output_port\", },\n",
              "{ key: \"drake/systems/controllers/InverseDynamics@0000560b89903200\", group: \"iiwa_controller\", input_ports: [ { name: \"u0\", id: \"u0\" }, { name: \"u1\", id: \"u1\" }, ],\n",
              "output_ports: [ { name: \"y0\", id: \"y0\" }, ],\n",
              "},\n",
              "{ key: \"drake/systems/controllers/PidController@0000560b89937a00\", group: \"iiwa_controller\", input_ports: [ { name: \"estimated_state\", id: \"u0\" }, { name: \"desired_state\", id: \"u1\" }, ],\n",
              "output_ports: [ { name: \"control\", id: \"y0\" }, ],\n",
              "},\n",
              "{ key: \"drake/systems/Adder@0000560b89dfd700\", group: \"iiwa_controller\", input_ports: [ { name: \"u0\", id: \"u0\" }, { name: \"u1\", id: \"u1\" }, ],\n",
              "output_ports: [ { name: \"sum\", id: \"y0\" }, ],\n",
              "},\n",
              "{ key: \"drake/systems/ConstantVectorSource@0000560b89dfd180\", group: \"iiwa_controller\", input_ports: [ ],\n",
              "output_ports: [ { name: \"y0\", id: \"y0\" }, ],\n",
              "},\n",
              "{ key: \"drake/systems/Adder@0000560b89dfd9c0\", group: \"manipulation_station\", input_ports: [ { name: \"u0\", id: \"u0\" }, { name: \"u1\", id: \"u1\" }, ],\n",
              "output_ports: [ { name: \"sum\", id: \"y0\" }, ],\n",
              "},\n",
              "{ key: \"drake/systems/PassThrough@0000560b89dfc3c0\", group: \"manipulation_station\", input_ports: [ { name: \"u\", id: \"u0\" }, ],\n",
              "output_ports: [ { name: \"y\", id: \"y0\" }, ],\n",
              "},\n",
              "{ key: \"desired_state_from_position\", name: \"desired_state_from_position\", group: \"manipulation_station\", isGroup: true, expanded: false, },\n",
              "{ key: \"desired_state_from_position_inputs\", name: \"Input Ports\", group: \"desired_state_from_position\", isGroup: true, },\n",
              "{ key: \"desired_state_from_position_u0\", name: \"position\", group: \"desired_state_from_position_inputs\", category: \"input_port\", },\n",
              "{ key: \"desired_state_from_position_outputs\", name: \"Output Ports\", group: \"desired_state_from_position\", isGroup: true, },\n",
              "{ key: \"desired_state_from_position_y0\", name: \"state\", group: \"desired_state_from_position_outputs\", category: \"output_port\", },\n",
              "{ key: \"drake/systems/DiscreteDerivative@0000560b89dfc100\", group: \"desired_state_from_position\", input_ports: [ { name: \"u\", id: \"u0\" }, ],\n",
              "output_ports: [ { name: \"dudt\", id: \"y0\" }, ],\n",
              "},\n",
              "{ key: \"drake/systems/Multiplexer@0000560b89dfbb80\", group: \"desired_state_from_position\", input_ports: [ { name: \"u0\", id: \"u0\" }, { name: \"u1\", id: \"u1\" }, ],\n",
              "output_ports: [ { name: \"y0\", id: \"y0\" }, ],\n",
              "},\n",
              "{ key: \"wsg_controller\", name: \"wsg_controller\", group: \"manipulation_station\", isGroup: true, expanded: false, },\n",
              "{ key: \"wsg_controller_inputs\", name: \"Input Ports\", group: \"wsg_controller\", isGroup: true, },\n",
              "{ key: \"wsg_controller_u0\", name: \"desired_position\", group: \"wsg_controller_inputs\", category: \"input_port\", },\n",
              "{ key: \"wsg_controller_u1\", name: \"force_limit\", group: \"wsg_controller_inputs\", category: \"input_port\", },\n",
              "{ key: \"wsg_controller_u2\", name: \"state\", group: \"wsg_controller_inputs\", category: \"input_port\", },\n",
              "{ key: \"wsg_controller_outputs\", name: \"Output Ports\", group: \"wsg_controller\", isGroup: true, },\n",
              "{ key: \"wsg_controller_y0\", name: \"generalized_force\", group: \"wsg_controller_outputs\", category: \"output_port\", },\n",
              "{ key: \"wsg_controller_y1\", name: \"grip_force\", group: \"wsg_controller_outputs\", category: \"output_port\", },\n",
              "{ key: \"wsg_controller\", group: \"wsg_controller\", input_ports: [ { name: \"desired_state\", id: \"u0\" }, { name: \"force_limit\", id: \"u1\" }, { name: \"state\", id: \"u2\" }, ],\n",
              "output_ports: [ { name: \"generalized_force\", id: \"y0\" }, { name: \"grip_force\", id: \"y1\" }, ],\n",
              "},\n",
              "{ key: \"drake/systems/StateInterpolatorWithDiscreteDerivative@0000560b898e0780\", name: \"drake/systems/StateInterpolatorWithDiscreteDerivative@0000560b898e0780\", group: \"wsg_controller\", isGroup: true, expanded: false, },\n",
              "{ key: \"drake/systems/StateInterpolatorWithDiscreteDerivative@0000560b898e0780_inputs\", name: \"Input Ports\", group: \"drake/systems/StateInterpolatorWithDiscreteDerivative@0000560b898e0780\", isGroup: true, },\n",
              "{ key: \"drake/systems/StateInterpolatorWithDiscreteDerivative@0000560b898e0780_u0\", name: \"position\", group: \"drake/systems/StateInterpolatorWithDiscreteDerivative@0000560b898e0780_inputs\", category: \"input_port\", },\n",
              "{ key: \"drake/systems/StateInterpolatorWithDiscreteDerivative@0000560b898e0780_outputs\", name: \"Output Ports\", group: \"drake/systems/StateInterpolatorWithDiscreteDerivative@0000560b898e0780\", isGroup: true, },\n",
              "{ key: \"drake/systems/StateInterpolatorWithDiscreteDerivative@0000560b898e0780_y0\", name: \"state\", group: \"drake/systems/StateInterpolatorWithDiscreteDerivative@0000560b898e0780_outputs\", category: \"output_port\", },\n",
              "{ key: \"drake/systems/DiscreteDerivative@0000560b89dfb080\", group: \"drake/systems/StateInterpolatorWithDiscreteDerivative@0000560b898e0780\", input_ports: [ { name: \"u\", id: \"u0\" }, ],\n",
              "output_ports: [ { name: \"dudt\", id: \"y0\" }, ],\n",
              "},\n",
              "{ key: \"drake/systems/Multiplexer@0000560b89dfadc0\", group: \"drake/systems/StateInterpolatorWithDiscreteDerivative@0000560b898e0780\", input_ports: [ { name: \"u0\", id: \"u0\" }, { name: \"u1\", id: \"u1\" }, ],\n",
              "output_ports: [ { name: \"y0\", id: \"y0\" }, ],\n",
              "},\n",
              "{ key: \"drake/systems/MatrixGain@0000560b898aca80\", group: \"manipulation_station\", input_ports: [ { name: \"u0\", id: \"u0\" }, ],\n",
              "output_ports: [ { name: \"y0\", id: \"y0\" }, ],\n",
              "},\n",
              "{ key: \"drake/systems/sensors/RgbdSensor@0000560b89885b80\", group: \"manipulation_station\", input_ports: [ { name: \"geometry_query\", id: \"u0\" }, ],\n",
              "output_ports: [ { name: \"color_image\", id: \"y0\" }, { name: \"depth_image_32f\", id: \"y1\" }, { name: \"depth_image_16u\", id: \"y2\" }, { name: \"label_image\", id: \"y3\" }, { name: \"X_WB\", id: \"y4\" }, ],\n",
              "},\n",
              "{ key: \"__main__.DifferentialIKSystem@0000560b8a0e1600\", group: \"diagram\", input_ports: [ { name: \"spatial_velocity\", id: \"u0\" }, { name: \"iiwa_position_measured\", id: \"u1\" }, { name: \"iiwa_velocity_measured\", id: \"u2\" }, ],\n",
              "output_ports: [ { name: \"iiwa_velocity_command\", id: \"y0\" }, ],\n",
              "},\n",
              "{ key: \"drake/systems/Integrator@0000560b8a0e1b80\", group: \"diagram\", input_ports: [ { name: \"u0\", id: \"u0\" }, ],\n",
              "output_ports: [ { name: \"y0\", id: \"y0\" }, ],\n",
              "},\n",
              "{ key: \"drake/systems/ConstantVectorSource@0000560b8a0e1e40\", group: \"diagram\", input_ports: [ ],\n",
              "output_ports: [ { name: \"y0\", id: \"y0\" }, ],\n",
              "},\n",
              "{ key: \"meshcat_visualizer\", group: \"diagram\", input_ports: [ { name: \"lcm_visualization\", id: \"u0\" }, { name: \"geometry_query\", id: \"u1\" }, ],\n",
              "output_ports: [ ],\n",
              "},\n",
              "\n",
              "    ],\n",
              "    linkDataArray: [\n",
              "{ from: \"drake/systems/Integrator@0000560b8a0e1b80\", fromPort: \"y0\", to: \"manipulation_station_u0\", },\n",
              "{ from: \"drake/systems/ConstantVectorSource@0000560b8a0e1e40\", fromPort: \"y0\", to: \"__main__.DifferentialIKSystem@0000560b8a0e1600\", toPort: \"u0\", },\n",
              "{ from: \"manipulation_station_y1\", to: \"__main__.DifferentialIKSystem@0000560b8a0e1600\", toPort: \"u1\", },\n",
              "{ from: \"manipulation_station_y2\", to: \"__main__.DifferentialIKSystem@0000560b8a0e1600\", toPort: \"u2\", },\n",
              "{ from: \"__main__.DifferentialIKSystem@0000560b8a0e1600\", fromPort: \"y0\", to: \"drake/systems/Integrator@0000560b8a0e1b80\", toPort: \"u0\", },\n",
              "{ from: \"manipulation_station_y13\", to: \"meshcat_visualizer\", toPort: \"u1\", },\n",
              "{ from: \"plant\", fromPort: \"y0\", to: \"scene_graph\", toPort: \"u0\", },\n",
              "{ from: \"scene_graph\", fromPort: \"y1\", to: \"drake/systems/sensors/RgbdSensor@0000560b89885b80\", toPort: \"u0\", },\n",
              "{ from: \"plant\", fromPort: \"y16\", to: \"drake/systems/MatrixGain@0000560b898aca80\", toPort: \"u0\", },\n",
              "{ from: \"scene_graph\", fromPort: \"y1\", to: \"plant\", toPort: \"u0\", },\n",
              "{ from: \"drake/systems/Adder@0000560b89dfd9c0\", fromPort: \"y0\", to: \"plant\", toPort: \"u5\", },\n",
              "{ from: \"wsg_controller_y0\", to: \"plant\", toPort: \"u6\", },\n",
              "{ from: \"drake/systems/PassThrough@0000560b89dfa840\", fromPort: \"y0\", to: \"desired_state_from_position_u0\", },\n",
              "{ from: \"plant\", fromPort: \"y14\", to: \"drake/systems/Demultiplexer@0000560b89902f00\", toPort: \"u0\", },\n",
              "{ from: \"plant\", fromPort: \"y16\", to: \"wsg_controller_u2\", },\n",
              "{ from: \"plant\", fromPort: \"y14\", to: \"iiwa_controller_u0\", },\n",
              "{ from: \"desired_state_from_position_y0\", to: \"iiwa_controller_u1\", },\n",
              "{ from: \"iiwa_controller_y0\", to: \"drake/systems/Adder@0000560b89dfd9c0\", toPort: \"u0\", },\n",
              "{ from: \"drake/systems/PassThrough@0000560b89dfc3c0\", fromPort: \"y0\", to: \"drake/systems/Adder@0000560b89dfd9c0\", toPort: \"u1\", },\n",
              "{ from: \"manipulation_station_u0\", to: \"drake/systems/PassThrough@0000560b89dfa840\", toPort: \"u0\", },\n",
              "{ from: \"manipulation_station_u1\", to: \"drake/systems/PassThrough@0000560b89dfc3c0\", toPort: \"u0\", },\n",
              "{ from: \"manipulation_station_u2\", to: \"wsg_controller_u0\", },\n",
              "{ from: \"manipulation_station_u3\", to: \"wsg_controller_u1\", },\n",
              "{ from: \"drake/systems/PassThrough@0000560b89dfa840\", fromPort: \"y0\", to: \"manipulation_station_y0\", },\n",
              "{ from: \"drake/systems/Demultiplexer@0000560b89902f00\", fromPort: \"y0\", to: \"manipulation_station_y1\", },\n",
              "{ from: \"drake/systems/Demultiplexer@0000560b89902f00\", fromPort: \"y1\", to: \"manipulation_station_y2\", },\n",
              "{ from: \"plant\", fromPort: \"y14\", to: \"manipulation_station_y3\", },\n",
              "{ from: \"drake/systems/Adder@0000560b89dfd9c0\", fromPort: \"y0\", to: \"manipulation_station_y4\", },\n",
              "{ from: \"drake/systems/Adder@0000560b89dfd9c0\", fromPort: \"y0\", to: \"manipulation_station_y5\", },\n",
              "{ from: \"drake/systems/MatrixGain@0000560b898aca80\", fromPort: \"y0\", to: \"manipulation_station_y6\", },\n",
              "{ from: \"wsg_controller_y1\", to: \"manipulation_station_y7\", },\n",
              "{ from: \"plant\", fromPort: \"y22\", to: \"manipulation_station_y8\", },\n",
              "{ from: \"drake/systems/sensors/RgbdSensor@0000560b89885b80\", fromPort: \"y0\", to: \"manipulation_station_y9\", },\n",
              "{ from: \"drake/systems/sensors/RgbdSensor@0000560b89885b80\", fromPort: \"y2\", to: \"manipulation_station_y10\", },\n",
              "{ from: \"drake/systems/sensors/RgbdSensor@0000560b89885b80\", fromPort: \"y3\", to: \"manipulation_station_y11\", },\n",
              "{ from: \"scene_graph\", fromPort: \"y0\", to: \"manipulation_station_y12\", },\n",
              "{ from: \"scene_graph\", fromPort: \"y1\", to: \"manipulation_station_y13\", },\n",
              "{ from: \"scene_graph\", fromPort: \"y1\", to: \"manipulation_station_y14\", },\n",
              "{ from: \"plant\", fromPort: \"y25\", to: \"manipulation_station_y15\", },\n",
              "{ from: \"plant\", fromPort: \"y1\", to: \"manipulation_station_y16\", },\n",
              "{ from: \"plant\", fromPort: \"y0\", to: \"manipulation_station_y17\", },\n",
              "{ from: \"drake/systems/Adder@0000560b89dfd700\", fromPort: \"y0\", to: \"drake/systems/controllers/InverseDynamics@0000560b89903200\", toPort: \"u1\", },\n",
              "{ from: \"drake/systems/controllers/PidController@0000560b89937a00\", fromPort: \"y0\", to: \"drake/systems/Adder@0000560b89dfd700\", toPort: \"u0\", },\n",
              "{ from: \"drake/systems/ConstantVectorSource@0000560b89dfd180\", fromPort: \"y0\", to: \"drake/systems/Adder@0000560b89dfd700\", toPort: \"u1\", },\n",
              "{ from: \"iiwa_controller_u0\", to: \"drake/systems/controllers/InverseDynamics@0000560b89903200\", toPort: \"u0\", },\n",
              "{ from: \"iiwa_controller_u0\", to: \"drake/systems/controllers/PidController@0000560b89937a00\", toPort: \"u0\", },\n",
              "{ from: \"iiwa_controller_u1\", to: \"drake/systems/controllers/PidController@0000560b89937a00\", toPort: \"u1\", },\n",
              "{ from: \"drake/systems/controllers/InverseDynamics@0000560b89903200\", fromPort: \"y0\", to: \"iiwa_controller_y0\", },\n",
              "{ from: \"drake/systems/DiscreteDerivative@0000560b89dfc100\", fromPort: \"y0\", to: \"drake/systems/Multiplexer@0000560b89dfbb80\", toPort: \"u1\", },\n",
              "{ from: \"desired_state_from_position_u0\", to: \"drake/systems/Multiplexer@0000560b89dfbb80\", toPort: \"u0\", },\n",
              "{ from: \"desired_state_from_position_u0\", to: \"drake/systems/DiscreteDerivative@0000560b89dfc100\", toPort: \"u0\", },\n",
              "{ from: \"drake/systems/Multiplexer@0000560b89dfbb80\", fromPort: \"y0\", to: \"desired_state_from_position_y0\", },\n",
              "{ from: \"drake/systems/StateInterpolatorWithDiscreteDerivative@0000560b898e0780_y0\", to: \"wsg_controller\", toPort: \"u0\", },\n",
              "{ from: \"wsg_controller_u0\", to: \"drake/systems/StateInterpolatorWithDiscreteDerivative@0000560b898e0780_u0\", },\n",
              "{ from: \"wsg_controller_u1\", to: \"wsg_controller\", toPort: \"u1\", },\n",
              "{ from: \"wsg_controller_u2\", to: \"wsg_controller\", toPort: \"u2\", },\n",
              "{ from: \"wsg_controller\", fromPort: \"y0\", to: \"wsg_controller_y0\", },\n",
              "{ from: \"wsg_controller\", fromPort: \"y1\", to: \"wsg_controller_y1\", },\n",
              "{ from: \"drake/systems/DiscreteDerivative@0000560b89dfb080\", fromPort: \"y0\", to: \"drake/systems/Multiplexer@0000560b89dfadc0\", toPort: \"u1\", },\n",
              "{ from: \"drake/systems/StateInterpolatorWithDiscreteDerivative@0000560b898e0780_u0\", to: \"drake/systems/Multiplexer@0000560b89dfadc0\", toPort: \"u0\", },\n",
              "{ from: \"drake/systems/StateInterpolatorWithDiscreteDerivative@0000560b898e0780_u0\", to: \"drake/systems/DiscreteDerivative@0000560b89dfb080\", toPort: \"u0\", },\n",
              "{ from: \"drake/systems/Multiplexer@0000560b89dfadc0\", fromPort: \"y0\", to: \"drake/systems/StateInterpolatorWithDiscreteDerivative@0000560b898e0780_y0\", },\n",
              "\n",
              "    ]\n",
              "  });\n",
              "</script>\n"
            ],
            "text/plain": [
              "<IPython.core.display.HTML object>"
            ]
          },
          "metadata": {
            "tags": []
          }
        }
      ]
    },
    {
      "cell_type": "markdown",
      "metadata": {
        "id": "8we5cXEJs-jg"
      },
      "source": [
        "If you wait until the simulation is set up and advance the simulator by running the below cell, you should see that the manipulator just stays still since our base class keeps sending zero-velocity. "
      ]
    },
    {
      "cell_type": "code",
      "metadata": {
        "colab": {
          "base_uri": "https://localhost:8080/"
        },
        "id": "_-9A2-VltKPr",
        "outputId": "daf1e1c2-28a4-4435-9f10-2388456ef3e0"
      },
      "source": [
        "simulator.AdvanceTo(5.0 if running_as_notebook else 0.1)"
      ],
      "execution_count": null,
      "outputs": [
        {
          "output_type": "execute_result",
          "data": {
            "text/plain": [
              "<pydrake.systems.analysis.SimulatorStatus at 0x7f80bd5443b0>"
            ]
          },
          "metadata": {
            "tags": []
          },
          "execution_count": 5
        }
      ]
    },
    {
      "cell_type": "markdown",
      "metadata": {
        "id": "Y90FlVastwCq"
      },
      "source": [
        "## Differential IK through Inverse Jacobian\n",
        "\n",
        "That was some setup to get through the basic tools, but now we're onto the main part of the set! In class, we've seen that in order to map a desired spatial velocity $V^G$ to desired joint velocities, we can use the relation \n",
        "\n",
        "$$V^G = J^G(q) v$$\n",
        "\n",
        "and \"invert\" this with a Moore-Penrose pseudoinverse to achieve differential kinematics:\n",
        "\n",
        "$$v = [J^G(q)]^{+} V^{G}$$\n",
        "\n",
        "We can implement this controller fairly easily:"
      ]
    },
    {
      "cell_type": "code",
      "metadata": {
        "id": "q6Ko4z4UZ-ZZ"
      },
      "source": [
        "def DiffIKPseudoInverse(J_G, V_G_desired, q_now, v_now, p_now):\n",
        "  v = np.linalg.pinv(J_G).dot(V_G_desired)\n",
        "  return v"
      ],
      "execution_count": null,
      "outputs": []
    },
    {
      "cell_type": "markdown",
      "metadata": {
        "id": "uT0E0rrwwVfV"
      },
      "source": [
        "Let's simulate this system forward. Run the cell below, and when the simulator is ready in Meshcat, advance the simulator in the second cell below. "
      ]
    },
    {
      "cell_type": "code",
      "metadata": {
        "colab": {
          "base_uri": "https://localhost:8080/"
        },
        "id": "6aVPMECDxmwm",
        "outputId": "30d3480a-9274-4a33-b935-50d97e23810e"
      },
      "source": [
        "# Corresponds to [wx, wy, wz, vx, vy, vz]\n",
        "V_d = np.array([0., 0., 0., 0.1, 0.0, 0])\n",
        "simulator = BuildAndSimulate(DiffIKPseudoInverse, V_d)"
      ],
      "execution_count": null,
      "outputs": [
        {
          "output_type": "stream",
          "text": [
            "Connecting to meshcat-server at zmq_url=tcp://127.0.0.1:6000...\n",
            "You can open the visualizer by visiting the following URL:\n",
            "http://de92c091a733.ngrok.io/static/\n",
            "Connected to meshcat-server.\n"
          ],
          "name": "stdout"
        }
      ]
    },
    {
      "cell_type": "code",
      "metadata": {
        "colab": {
          "base_uri": "https://localhost:8080/"
        },
        "id": "N7XEJlnrx-cR",
        "outputId": "92bed4c7-bc16-4b0d-b3e2-1f6e70c98263"
      },
      "source": [
        "simulator.AdvanceTo(7.0 if running_as_notebook else 0.1)"
      ],
      "execution_count": null,
      "outputs": [
        {
          "output_type": "execute_result",
          "data": {
            "text/plain": [
              "<pydrake.systems.analysis.SimulatorStatus at 0x7f80d18d50b0>"
            ]
          },
          "metadata": {
            "tags": []
          },
          "execution_count": 8
        }
      ]
    },
    {
      "cell_type": "markdown",
      "metadata": {
        "id": "73VXtApc0fCO"
      },
      "source": [
        "Wow - what just happened? There are several things you should have noticed.\n",
        "- The robot did its job by going 0.1m/s in the x-direction (for anyone not familiar, there is a 'world-frame' axis colored by RGB. The usual convention is that RGB corresponds respectively to XYZ axii. Note that the robot is moving in the direction of the red axis as expected) \n",
        "- When the robot reached the end of its workspace, it freaked out, jerking unexpectedly.\n",
        "\n",
        "Imagine thinking the PseudoInverse method was a good idea, implementing the controller, then running this in a real robot - something might have gone badly wrong! "
      ]
    },
    {
      "cell_type": "markdown",
      "metadata": {
        "id": "q7r1Fa3B2AWk"
      },
      "source": [
        "## Pseudoinverse as Optimization\n",
        "\n",
        "Even though the method got unreliable at the limits of the kinematic workspace (i.e. under kinematic singularities), it worked reasonably well. How do we keep the benefits of the original method while improving behavior near singularities?\n",
        "\n",
        "One idea presented in class is to stick to a certain **joint velocity limit**. This will at least prevent the manipulator from doing something crazy. \n",
        "\n",
        "**Now it's your turn to code!**\n",
        "\n",
        "In the language of optimization, the problem we are trying to solve will look like: \n",
        "\n",
        "$$\\begin{aligned}\n",
        "\\min_v \\quad & \\|\\mathbf{J}(q)v - V_d\\|^2_2 \\\\\n",
        "\\textrm{s.t.} \\quad &  |v|\\leq v_{max} \\end{aligned}$$\n",
        "\n",
        "Below, you must transcribe and solve this optimization problem through `MathematicalProgram`. \n",
        "\n",
        "NOTE: The absolute value is taken element wise, so the last constraint is really saying \"for all $i$, make sure none of the elements of $|v[i]|$ exceed $v_{max}[i]$. Such constraints are also called Bounding Box constraints. \n",
        "\n",
        "HINT: We can't directly enter absolute values as a constraint in `MathematicalProgram`, but we can break down the absolute value constraint into two separate constraints. \n",
        "\n",
        "NOTE: If you're not familiar with how to write down mathematical program, make sure you do the `intro_to_qp` exercise on the textbook first. If you're still stuck, feel free to get more practice from [this notebook tutorial](https://mybinder.org/v2/gh/RobotLocomotion/drake/nightly-release-binder?filepath=tutorials/mathematical_program.ipynb), or look at the [`pydrake` documentation on `MathematicalProgram`](https://drake.mit.edu/pydrake/pydrake.solvers.mathematicalprogram.html). "
      ]
    },
    {
      "cell_type": "code",
      "metadata": {
        "id": "4YKMRp3gDY0R"
      },
      "source": [
        "def DiffIKQP(J_G, V_G_desired, q_now, v_now, p_now):\n",
        "\n",
        "  prog = MathematicalProgram()\n",
        "  v = prog.NewContinuousVariables(7, 'v')\n",
        "  v_max = 3.0 # do not modify \n",
        "\n",
        "  # Add cost and constraints to prog here.\n",
        "  prog.AddL2NormCost(J_G, V_G_desired, vars=v)\n",
        "  prog.AddBoundingBoxConstraint(-v_max,v_max,v)\n",
        "\n",
        "\n",
        "  solver = SnoptSolver()\n",
        "  result = solver.Solve(prog)\n",
        "\n",
        "  if not (result.is_success()):\n",
        "    raise ValueError(\"Could not find the optimal solution.\")\n",
        "\n",
        "  v_solution = result.GetSolution(v)\n",
        "\n",
        "  return v_solution"
      ],
      "execution_count": null,
      "outputs": []
    },
    {
      "cell_type": "markdown",
      "metadata": {
        "id": "QTplFYdQ-Gps"
      },
      "source": [
        "When you're ready to test out your new method, you can run the simulator to see what happens. Similar to last time, wait until everything loads on Meshcat and run the second cell below to simulate forward. "
      ]
    },
    {
      "cell_type": "code",
      "metadata": {
        "colab": {
          "base_uri": "https://localhost:8080/"
        },
        "id": "UD-ZLidi-Pul",
        "outputId": "363f038a-ba3b-44bc-da07-a280694c44ef"
      },
      "source": [
        "V_d = np.array([0., 0., 0., 0.1, 0., 0.]) # Feel free to play around with different V_desired\n",
        "simulator = BuildAndSimulate(DiffIKQP, V_d)"
      ],
      "execution_count": null,
      "outputs": [
        {
          "output_type": "stream",
          "text": [
            "Connecting to meshcat-server at zmq_url=tcp://127.0.0.1:6000...\n",
            "You can open the visualizer by visiting the following URL:\n",
            "http://de92c091a733.ngrok.io/static/\n",
            "Connected to meshcat-server.\n"
          ],
          "name": "stdout"
        }
      ]
    },
    {
      "cell_type": "code",
      "metadata": {
        "colab": {
          "base_uri": "https://localhost:8080/"
        },
        "id": "-uVQJfs6-cML",
        "outputId": "e6f3379f-ff3a-4388-b182-9dacc9ba2c1d"
      },
      "source": [
        "simulator.AdvanceTo(7.0 if running_as_notebook else 0.1)"
      ],
      "execution_count": null,
      "outputs": [
        {
          "output_type": "execute_result",
          "data": {
            "text/plain": [
              "<pydrake.systems.analysis.SimulatorStatus at 0x7f80b39ba3b0>"
            ]
          },
          "metadata": {
            "tags": []
          },
          "execution_count": 14
        }
      ]
    },
    {
      "cell_type": "markdown",
      "metadata": {
        "id": "ZggOGhgPXFLj"
      },
      "source": [
        "When you have implemented things correctly, you should see we behave much better near singularities now, since we're constraining joint velocities. This is nice - even if the Jacobian becomes singular, we can guard against sudden jerky movements because we've put limits."
      ]
    },
    {
      "cell_type": "markdown",
      "metadata": {
        "id": "ktjkAZmd5M4h"
      },
      "source": [
        "## An Virtual Wall in End-Effector Space\n",
        "\n",
        "In class, we saw that in addition to doing joint velocity constraints, we can also put constraints on **joint positions** and **accelerations** through first-order Euler finite difference. Given $v_{now}$ and $q_{now}$, we can find $v$ that satisfies the following program:\n",
        "\n",
        "$$\\begin{aligned}\n",
        "\\min_v \\quad & \\|\\mathbf{J}(q_{now})v - V_d\\|^2_2 \\\\\n",
        "\\textrm{s.t.} \\quad &  |v|\\leq v_{max} \\\\ \n",
        "\\quad & q_{min} \\leq q_{now} + h v \\leq q_{max} \\\\\n",
        "\\quad & a_{min} \\leq (v-v_{now})/h \\leq a_{max}\\end{aligned}$$\n",
        "\n",
        "All of these constraints are formulated in the joint-space. But could we also end up with a linear constraint if we try to impose a constraint in the end-effector space? \n",
        "\n",
        "**Now it's your time to code!**\n",
        "\n",
        "You must program a robot in a factory, but you would like to implement a virtual wall that the robot is not allowed to put its hand in, since you have limited space and a human will be working there, or there are some obstacles there. \n",
        "\n",
        "To do this, you decide to write an optimization-based controller that minimizes $\\|\\mathbf{J}(q_{now})v - V_d\\|_2^2$ and has two constraints:\n",
        "1. Joint velocity constraint $|v|\\leq v_{max}$\n",
        "2. A constraint that the **position** of the end-effector must be inside the following box:\n",
        "  - `lower_bound = [-0.3, -1.0, -1.0]`\n",
        "  - `upper_bound = [0.3, 1.0, 1.0]`\n",
        "\n",
        "You can access the current position of the robot by using `p_now` (found by running forward kinematics). \n",
        "\n",
        "HINT: We can similarly use first-order approximations to query what the next position will be given the current position and velocities in the end-effector space. "
      ]
    },
    {
      "cell_type": "code",
      "metadata": {
        "id": "J3Eel-kEddGU"
      },
      "source": [
        "def DiffIKQP_Wall(J_G, V_G_desired, q_now, v_now, p_now):\n",
        "      prog = MathematicalProgram()\n",
        "      v = prog.NewContinuousVariables(7, 'joint_velocities')\n",
        "      v_max = 3.0 # do not modify\n",
        "      h = 4e-3 # do not modify\n",
        "      lower_bound = np.array([-0.3, -1.0, -1.0]) # do not modify\n",
        "      upper_bound = np.array([0.3, 1.0, 1.0]) # do not modify\n",
        "\n",
        "      # Fill in your code here.\n",
        "      v_eff=J_G.dot(v) \n",
        "      v_t_eff=v_eff[3:]\n",
        "      p_next=p_now+(v_t_eff*h)\n",
        "      prog.AddL2NormCost(J_G, V_G_desired, vars=v) \n",
        "      prog.AddBoundingBoxConstraint(-v_max,v_max,v)\n",
        "      # prog.AddBoundingBoxConstraint(lower_bound,upper_bound,p_next) # this is not working\n",
        "      prog.AddConstraint(le(p_next,upper_bound))\n",
        "      prog.AddConstraint(ge(p_next,lower_bound))\n",
        "      # prog.AddBoundingBoxConstraint((lower_bound-q_now)/h,(upper_bound-q_now)/h,v)\n",
        "      # prog.AddBoundingBoxConstraint(v_min+v_now,v_max+v_now,v)\n",
        "      solver = SnoptSolver()\n",
        "      result = solver.Solve(prog)\n",
        "        \n",
        "      if not (result.is_success()):\n",
        "        raise ValueError(\"Could not find the optimal solution.\")\n",
        "\n",
        "      v_solution = result.GetSolution(v)\n",
        "      return v_solution"
      ],
      "execution_count": null,
      "outputs": []
    },
    {
      "cell_type": "code",
      "metadata": {
        "colab": {
          "base_uri": "https://localhost:8080/"
        },
        "id": "yl128hSMdGJW",
        "outputId": "1ef5c770-784a-4726-e505-cc9cc74e6b25"
      },
      "source": [
        "V_d = np.array([0.0, 0., 0., 0.1, 0.05, 0])\n",
        "simulator = BuildAndSimulate(DiffIKQP_Wall, V_d)"
      ],
      "execution_count": null,
      "outputs": [
        {
          "output_type": "stream",
          "text": [
            "Connecting to meshcat-server at zmq_url=tcp://127.0.0.1:6000...\n",
            "You can open the visualizer by visiting the following URL:\n",
            "http://de92c091a733.ngrok.io/static/\n",
            "Connected to meshcat-server.\n"
          ],
          "name": "stdout"
        }
      ]
    },
    {
      "cell_type": "code",
      "metadata": {
        "colab": {
          "base_uri": "https://localhost:8080/"
        },
        "id": "vtxXUrxvaC8w",
        "outputId": "70c9c9c5-32b1-4212-98b5-46204b965352"
      },
      "source": [
        "# Wait for the model to load in the visualizer, then run this cell to see the interesting part...\n",
        "simulator.AdvanceTo(7.0 if running_as_notebook else 0.1)"
      ],
      "execution_count": null,
      "outputs": [
        {
          "output_type": "execute_result",
          "data": {
            "text/plain": [
              "<pydrake.systems.analysis.SimulatorStatus at 0x7f80b37ef130>"
            ]
          },
          "metadata": {
            "tags": []
          },
          "execution_count": 41
        }
      ]
    },
    {
      "cell_type": "markdown",
      "metadata": {
        "id": "Gl0rgvvV6DjW"
      },
      "source": [
        "If you implemented this correctly, it will seem like the robot has a virtual wall that it cannot cross! \n"
      ]
    },
    {
      "cell_type": "markdown",
      "metadata": {
        "id": "zPmeRLtJk410"
      },
      "source": [
        "##How will this notebook be Graded?##\n",
        "\n",
        "If you are enrolled in the class, this notebook will be graded using [Gradescope](www.gradescope.com). You should have gotten the enrollement code on our announcement in Piazza. \n",
        "\n",
        "For submission of this assignment, you must do as follows:. \n",
        "- Download and submit the notebook `differential_ik_optimization.ipynb` to Gradescope's notebook submission section, along with your notebook for the other problems.\n",
        "\n",
        "We will evaluate the local functions in the notebook to see if the function behaves as we have expected. For this exercise, the rubric is as follows:\n",
        "- [4 pts] `DiffIKQP` must be implemented correctly. \n",
        "- [6 pts] `DiffIKQP_Wall` must be implemented correctly. "
      ]
    },
    {
      "cell_type": "markdown",
      "metadata": {
        "id": "RiIaH2YlTcmc"
      },
      "source": [
        "Below is our autograder where you can check the correctness of all your implementations. "
      ]
    },
    {
      "cell_type": "code",
      "metadata": {
        "colab": {
          "base_uri": "https://localhost:8080/"
        },
        "id": "ZXZateGeTlKX",
        "outputId": "9fca80d7-a636-4fef-a527-29c8b5bfdcb0"
      },
      "source": [
        "from manipulation.exercises.pick.test_differential_ik import TestDifferentialIK\n",
        "from manipulation.exercises.grader import Grader \n",
        "\n",
        "Grader.grade_output([TestDifferentialIK], [locals()], 'results.json')\n",
        "Grader.print_test_results('results.json')"
      ],
      "execution_count": null,
      "outputs": [
        {
          "output_type": "stream",
          "text": [
            "Total score is 10/10.\n",
            "\n",
            "Score for Test DiffIKQP is 4/4.\n",
            "\n",
            "Score for Test DiffIK_Wall is 6/6.\n"
          ],
          "name": "stdout"
        }
      ]
    }
  ]
}