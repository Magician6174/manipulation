{
  "nbformat": 4,
  "nbformat_minor": 0,
  "metadata": {
    "celltoolbar": "Tags",
    "colab": {
      "name": "Copy of rigid_transforms.ipynb",
      "provenance": [],
      "collapsed_sections": []
    },
    "kernelspec": {
      "display_name": "Python 3",
      "language": "python",
      "name": "python3"
    },
    "language_info": {
      "codemirror_mode": {
        "name": "ipython",
        "version": 3
      },
      "file_extension": ".py",
      "mimetype": "text/x-python",
      "name": "python",
      "nbconvert_exporter": "python",
      "pygments_lexer": "ipython3",
      "version": "3.6.9"
    }
  },
  "cells": [
    {
      "cell_type": "markdown",
      "metadata": {
        "id": "c9GoM16F7I7Z"
      },
      "source": [
        "# Exercises on Rigid Transforms"
      ]
    },
    {
      "cell_type": "markdown",
      "metadata": {
        "id": "luJIMMUbZpzk"
      },
      "source": [
        "## Notebook Setup \n",
        "The following cell will install Drake, checkout the manipulation repository, and set up the path (only if necessary).\n",
        "- On Google's Colaboratory, this **will take approximately two minutes** on the first time it runs (to provision the machine), but should only need to reinstall once every 12 hours.  \n",
        "\n",
        "More details are available [here](http://manipulation.mit.edu/drake.html)."
      ]
    },
    {
      "cell_type": "code",
      "metadata": {
        "colab": {
          "base_uri": "https://localhost:8080/"
        },
        "id": "UeaGx2uO_O3Q",
        "outputId": "13c954f5-d0ba-440a-aa21-e62c87e33e1d"
      },
      "source": [
        "import importlib\n",
        "import os, sys\n",
        "from urllib.request import urlretrieve\n",
        "\n",
        "if 'google.colab' in sys.modules and importlib.util.find_spec('manipulation') is None:\n",
        "    urlretrieve(f\"http://manipulation.csail.mit.edu/scripts/setup/setup_manipulation_colab.py\",\n",
        "                \"setup_manipulation_colab.py\")\n",
        "    from setup_manipulation_colab import setup_manipulation\n",
        "    setup_manipulation(manipulation_sha='c1bdae733682f8a390f848bc6cb0dbbf9ea98602', drake_version='0.25.0', drake_build='releases')"
      ],
      "execution_count": null,
      "outputs": [
        {
          "output_type": "stream",
          "text": [
            "Cloning into '/opt/manipulation'...\n",
            "\n",
            "HEAD is now at c1bdae7 make running_as_notebook a util, and add colab testing logic\n",
            "\n",
            "/usr/lib/python3.7/runpy.py:125: RuntimeWarning: 'notebook.nbextensions' found in sys.modules after import of package 'notebook', but prior to execution of 'notebook.nbextensions'; this may result in unpredictable behaviour\n",
            "  warn(RuntimeWarning(msg))\n",
            "Enabling notebook extension jupyter-js-widgets/extension...\n",
            "Paths used for configuration of notebook: \n",
            "    \t/usr/etc/jupyter/nbconfig/notebook.json\n",
            "      - Validating: \u001b[32mOK\u001b[0m\n",
            "Paths used for configuration of notebook: \n",
            "    \t/usr/etc/jupyter/nbconfig/notebook.json\n",
            "/sbin/ldconfig.real: /usr/local/lib/python3.7/dist-packages/ideep4py/lib/libmkldnn.so.0 is not a symbolic link\n",
            "\n",
            "Enabling notebook extension jupyter-js-widgets/extension...\n",
            "      - Validating: \u001b[32mOK\u001b[0m\n",
            "\n",
            "WARNING: The candidate selected for download or install is a yanked version: 'nbformat' candidate (version 5.1.2 at https://files.pythonhosted.org/packages/13/1d/59cbc5a6b627ba3b4c0ec5ccc82a9002e58b324e2620a4929b81f1f8d309/nbformat-5.1.2-py3-none-any.whl#sha256=3949fdc8f5fa0b1afca16fb307546e78494fa7a7bceff880df8168eafda0e7ac (from https://pypi.org/simple/nbformat/) (requires-python:>=3.5))\n",
            "Reason for being yanked: Name generation process created inappropriate id values\n",
            "ERROR: nbclient 0.5.3 has requirement jupyter-client>=6.1.5, but you'll have jupyter-client 5.3.5 which is incompatible.\n",
            "ERROR: datascience 0.10.6 has requirement folium==0.2.1, but you'll have folium 0.8.3 which is incompatible.\n",
            "\n",
            "\n",
            "WARNING: apt does not have a stable CLI interface. Use with caution in scripts.\n",
            "\n",
            "\n"
          ],
          "name": "stdout"
        }
      ]
    },
    {
      "cell_type": "code",
      "metadata": {
        "id": "xyZz8R16E9jZ"
      },
      "source": [
        "# python libraries\n",
        "import numpy as np\n",
        "import matplotlib.pyplot as plt, mpld3\n",
        "from IPython.display import HTML, display\n",
        "\n",
        "# Install pyngrok.\n",
        "server_args = []\n",
        "if 'google.colab' in sys.modules:\n",
        "  server_args = ['--ngrok_http_tunnel']\n",
        "\n",
        "# Start a single meshcat server instance to use for the remainder of this notebook.\n",
        "from meshcat.servers.zmqserver import start_zmq_server_as_subprocess\n",
        "proc, zmq_url, web_url = start_zmq_server_as_subprocess(server_args=server_args)\n",
        "\n",
        "# Let's do all of our imports here, too.\n",
        "import numpy as np\n",
        "from pydrake.all import (Quaternion, RigidTransform, \n",
        "    RollPitchYaw, RotationMatrix\n",
        ")"
      ],
      "execution_count": null,
      "outputs": []
    },
    {
      "cell_type": "markdown",
      "metadata": {
        "id": "EvOQi_xQE9kY"
      },
      "source": [
        "# Problem Description\n",
        "In the lecture, we learned the basics of spatial transformations. In this exercise, you will compute simple rigid transforms applying the rules you have learned in class.\n",
        "\n",
        "**These are the main steps of the exercise:**\n",
        "1. Compute rigid transforms of frames in various reference frames.\n",
        "2. Design grasp pose using spatial transformation"
      ]
    },
    {
      "cell_type": "markdown",
      "metadata": {
        "id": "L-1Ad6xYQ2aK"
      },
      "source": [
        "# Exercise on Rigid Transforms\n",
        "\n",
        "As a brief review, we have covered two rules of spatial transformation in [class](http://manipulation.csail.mit.edu/pick.html#section3).\n",
        "\\begin{equation}{^AX^B} {^BX^C} =\n",
        "      {^AX^C},\\end{equation}\n",
        "\\begin{equation}[^AX^B]^{-1} =\n",
        "      {^BX^A}.\\end{equation}\n",
        "      \n",
        "Note that the rules of transforms are based on rules of transforming positions and rotations listed below. \n",
        "\n",
        "Addition of positions in the same frame:\n",
        "\\begin{equation}^Ap^B_F + ^Bp^C_F\n",
        "      = ^Ap^C_F.\\end{equation}\n",
        "\n",
        "The additive inverse:\n",
        "\\begin{equation}^Ap^B_F = - ^Bp^A_F.\\end{equation}\n",
        "\n",
        "Rotation of a point:\n",
        "\\begin{equation}^Ap^B_G = {^GR^F} ^Ap^B_F.\\end{equation}\n",
        "\n",
        "Chaining rotations:\n",
        "\\begin{equation}{^AR^B} {^BR^C} = {^AR^C}.\\end{equation}\n",
        "\n",
        "Inverse of rotations:\n",
        "\\begin{equation}[^AR^B]^{-1} =\n",
        "      {^BR^A}.\\end{equation}\n",
        "      \n",
        "Applying these rules will yield the same result as the ones computed by the former two rules.\n",
        "\n",
        "In Drake, you can multiply frames by \n",
        "```python\n",
        "X_AB.multiply(X_BC)\n",
        "```\n",
        "\n",
        "You may also inverse a rigid transform by the [inverse](https://drake.mit.edu/pydrake/pydrake.math.html?highlight=rigidtransform#pydrake.math.RigidTransform_.RigidTransform_[float].inverse) method.\n",
        "\n",
        "```python\n",
        "X_AB.inverse()\n",
        "```"
      ]
    },
    {
      "cell_type": "markdown",
      "metadata": {
        "id": "Ceqhp3vWZpzx"
      },
      "source": [
        "Now suppose you have 4 frames, namely, the world frame, frame A, frame B, and frame C defined as below.\n",
        "\n",
        "-- frame A expressed in the world frame (`X_WA`)\n",
        "\n",
        "-- frame B expressed in frame A (`X_AB`)\n",
        "\n",
        "-- frame B expressed in frame C (`X_CB`)\n",
        "\n",
        "**Calcuate the following transforms by filling your code below in the designated functions.**\n",
        "\n",
        "(1) `X_WB`, frame B expressed in the world frame\n",
        "\n",
        "(2) `X_CW`, the world frame expressed in frame C"
      ]
    },
    {
      "cell_type": "code",
      "metadata": {
        "id": "FDPul5bRZpzy"
      },
      "source": [
        "def compute_X_WB(X_WA, X_AB, X_CB):\n",
        "    \"\"\"\n",
        "    fill your code here\n",
        "    \"\"\"\n",
        "    X_WB = RigidTransform(X_WA.multiply(X_AB))\n",
        "    return X_WB"
      ],
      "execution_count": null,
      "outputs": []
    },
    {
      "cell_type": "code",
      "metadata": {
        "id": "xJQ1vThXZpz6"
      },
      "source": [
        "def compute_X_CW(X_WA, X_AB, X_CB):\n",
        "    \"\"\"\n",
        "    fill your code here\n",
        "    \"\"\"\n",
        "    X_CW = RigidTransform((X_WA.multiply(X_AB.multiply(X_CB.inverse()))).inverse())\n",
        "    return X_CW"
      ],
      "execution_count": null,
      "outputs": []
    },
    {
      "cell_type": "markdown",
      "metadata": {
        "id": "3DJxbaN6wjMw"
      },
      "source": [
        "# Design Grasp Pose\n",
        "The grasp pose is commonly defined in the object frame so that the grasp pose ${^OX^G}$ is independent of the pose of the object. The grasp pose in the world frame can be computed by \n",
        "\n",
        "\\begin{equation}{{^WX^G} = {}{^W}X^{O}} {^OX^G},\\end{equation}\n",
        "\n",
        "where $W$ stands for the world frame and $G$ denotes the grasp frame, following the convention in the textbook. \n",
        "\n",
        "You should notice from the visualization below that the gripper frame is different from the world frame. In particular, the +y axis of the gripper frame points vertically downward, and the +z axis of the gripper points backward. This is an important observation for this exercise."
      ]
    },
    {
      "cell_type": "markdown",
      "metadata": {
        "id": "o-5gZ-jPJJ-9"
      },
      "source": [
        "**Now for your exercise, dsign a grasp pose that satisfy the conditions below**\n",
        "\n",
        "- **gripper's position should be 0.02 unit distance above the target object in the world frame**\n",
        "- **gripper's y axis should align with object's x axis**\n",
        "- **gripper's x axis should align with object's z axis**\n",
        "- **write grasp pose in the object frame and the world frame**"
      ]
    },
    {
      "cell_type": "markdown",
      "metadata": {
        "id": "txN1Mlk5MTjl"
      },
      "source": [
        "<img src=\"https://raw.githubusercontent.com/RussTedrake/manipulation/master/figures/exercises/grasp_pose_design.png\" width=\"500\">\n"
      ]
    },
    {
      "cell_type": "code",
      "metadata": {
        "id": "ju-etoLzJ5zz"
      },
      "source": [
        "p0_WO = [-0.2, -0.65, 0.12] # object in world frame\n",
        "R0_WO = RotationMatrix.MakeYRotation(np.pi/2)\n",
        "X_WO = RigidTransform(R0_WO, p0_WO)"
      ],
      "execution_count": null,
      "outputs": []
    },
    {
      "cell_type": "code",
      "metadata": {
        "id": "84Po2q-MOLcJ"
      },
      "source": [
        "def design_grasp_pose(X_WO):\n",
        "  \"\"\"\n",
        "  fill in our code below\n",
        "  \"\"\"\n",
        "  # p_OG=[-0.02,0,0]\n",
        "  # R_OG=RotationMatrix.MakeZRotation(-np.pi/2).multiply(RotationMatrix.MakeYRotation(np.pi/2))\n",
        "  # X_OG = RigidTransform(R_OG,p_OG)\n",
        "  # X_WGgrasp = RigidTransform(X_WO.multiply(X_OG))\n",
        "  pG_WO=[0,0.02,0] # position of bject in world frame w.r.t grasp\n",
        "  rot=RotationMatrix.MakeZRotation(np.pi/2)\n",
        "  R_GGO=R0_WO.multiply((rot))\n",
        "  X_GO=RigidTransform(R_GGO,pG_WO)\n",
        "  X_OG=X_GO.inverse()\n",
        "  X_WG=X_WO.multiply(X_OG)\n",
        "  return X_OG, X_WG"
      ],
      "execution_count": null,
      "outputs": []
    },
    {
      "cell_type": "markdown",
      "metadata": {
        "id": "zPmeRLtJk410"
      },
      "source": [
        "## How will this notebook be Graded?##\n",
        "\n",
        "If you are enrolled in the class, this notebook will be graded using [Gradescope](www.gradescope.com). You should have gotten the enrollement code on our announcement in Piazza. \n",
        "\n",
        "For submission of this assignment, you must do two things. \n",
        "- Download and submit the notebook `rigid_transforms.ipynb` to Gradescope's notebook submission section, along with your notebook for the other problems.\n",
        "\n",
        "We will evaluate the local functions in the notebook to see if the function behaves as we have expected. For this exercise, the rubric is as follows:\n",
        "- [1 pts] `compute_X_WB` is correct\n",
        "- [1 pts] `compute_X_CW` is correct\n",
        "- [2 pts] `design_grasp_pose` is correct according to the requirement"
      ]
    },
    {
      "cell_type": "code",
      "metadata": {
        "colab": {
          "base_uri": "https://localhost:8080/"
        },
        "id": "T2PwWuqT_O3r",
        "outputId": "6f485e73-1009-4d83-f0ef-8715af060eee"
      },
      "source": [
        "from manipulation.exercises.pick.test_rigid_transforms import TestRigidTransforms\n",
        "from manipulation.exercises.grader import Grader \n",
        "\n",
        "Grader.grade_output([TestRigidTransforms], [locals()], 'results.json')\n",
        "Grader.print_test_results('results.json')"
      ],
      "execution_count": null,
      "outputs": [
        {
          "output_type": "stream",
          "text": [
            "Total score is 2/4.\n",
            "\n",
            "Score for Testing X_CW is 1/1.\n",
            "\n",
            "Score for Testing X_WB is 1/1.\n",
            "\n",
            "Score for Testing grasp pose is 0/2.\n",
            "- Test Failed: name 'X_WG' is not defined\n",
            "\n"
          ],
          "name": "stdout"
        }
      ]
    },
    {
      "cell_type": "code",
      "metadata": {
        "id": "0Pr6w9rYzT0p"
      },
      "source": [
        ""
      ],
      "execution_count": null,
      "outputs": []
    }
  ]
}